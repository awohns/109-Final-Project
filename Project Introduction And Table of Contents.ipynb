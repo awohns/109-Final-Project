{
 "cells": [
  {
   "cell_type": "markdown",
   "metadata": {},
   "source": [
    "# Project Overview"
   ]
  },
  {
   "cell_type": "markdown",
   "metadata": {},
   "source": []
  },
  {
   "cell_type": "markdown",
   "metadata": {},
   "source": [
    "# Initial Questions"
   ]
  },
  {
   "cell_type": "markdown",
   "metadata": {},
   "source": [
    "1. Which factors are most related to crime?\n",
    "2. Where and when does most crime?\n",
    "3. How accurately can we predict crime and how much could we benefit society?\n"
   ]
  },
  {
   "cell_type": "markdown",
   "metadata": {},
   "source": [
    "# Motivation"
   ]
  },
  {
   "cell_type": "markdown",
   "metadata": {},
   "source": []
  },
  {
   "cell_type": "markdown",
   "metadata": {},
   "source": [
    "# Table of Contents"
   ]
  },
  {
   "cell_type": "markdown",
   "metadata": {},
   "source": [
    "###(1) Static Data:\n",
    "\n",
    "[Static Data Notebook](Static Data.ipynb)\n",
    "\n",
    "###(2) Static Model:\n",
    "\n",
    "[Static Model Notebook](Static Model.ipynb)\n",
    "\n",
    "###(3) Dynamic Data:\n",
    "\n",
    "[Dynamic Data Notebook](Dynamic Data.ipynb)\n",
    "\n",
    "###(4) Dynamic Model:\n",
    "\n",
    "[Dynamic Model Notebook](Dynamic Model.ipynb)\n",
    "\n",
    "###(5) Video Presentation:\n",
    "\n",
    "ADD VIDEO LINK\n",
    "\n",
    "###(6) Project Website:\n",
    "\n",
    "[Crimeless Wepage](http://carlf312.github.io/109-Final-Project/ \"Crimeless Homepage\")\n"
   ]
  }
 ],
 "metadata": {
  "kernelspec": {
   "display_name": "Python 2",
   "language": "python",
   "name": "python2"
  },
  "language_info": {
   "codemirror_mode": {
    "name": "ipython",
    "version": 2
   },
   "file_extension": ".py",
   "mimetype": "text/x-python",
   "name": "python",
   "nbconvert_exporter": "python",
   "pygments_lexer": "ipython2",
   "version": "2.7.10"
  }
 },
 "nbformat": 4,
 "nbformat_minor": 0
}
