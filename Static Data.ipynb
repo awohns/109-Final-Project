{
 "cells": [
  {
   "cell_type": "markdown",
   "metadata": {},
   "source": [
    "# Static Data"
   ]
  },
  {
   "cell_type": "markdown",
   "metadata": {},
   "source": [
    "<img src=\"wilder_tempdata/Boston-at-Night.jpg\">\n"
   ]
  },
  {
   "cell_type": "markdown",
   "metadata": {},
   "source": [
    "### Import Packages ###"
   ]
  },
  {
   "cell_type": "code",
   "execution_count": 1,
   "metadata": {
    "collapsed": true
   },
   "outputs": [],
   "source": [
    "%matplotlib inline\n",
    "import numpy as np\n",
    "import scipy as sp\n",
    "import matplotlib as mpl\n",
    "import matplotlib.cm as cm\n",
    "import matplotlib.pyplot as plt\n",
    "import pandas as pd\n",
    "import csv\n",
    "import pickle\n",
    "pd.set_option('display.width', 500)\n",
    "pd.set_option('display.max_columns', 100)\n",
    "pd.set_option('display.notebook_repr_html', True)\n",
    "import seaborn as sns\n",
    "sns.set_style(\"whitegrid\")\n",
    "sns.set_context(\"poster\")"
   ]
  },
  {
   "cell_type": "markdown",
   "metadata": {},
   "source": [
    "### Obtaining and Cleaning the Data ###"
   ]
  },
  {
   "cell_type": "markdown",
   "metadata": {},
   "source": [
    "A variety of datasets pertaining to crime are available through Boston's open data portal as well as the web at large. The first dataset that we chose to obtain and clean was the comprehensive log of all crime incidents in Boston from July 2012 to August 2015.\n",
    "\n",
    "\n",
    "First, we downloaded this data and read in the csv file to the ipython notebook."
   ]
  },
  {
   "cell_type": "code",
   "execution_count": 4,
   "metadata": {
    "collapsed": false
   },
   "outputs": [],
   "source": [
    "#dftouse=pd.read_csv(\"Crime_Incident_Reports.csv\")\n",
    "dftouse=pd.read_csv(\"JRcleaningcontinued.csv\")"
   ]
  },
  {
   "cell_type": "markdown",
   "metadata": {},
   "source": [
    "Since our models relied on the fact that every crime incident would be geotagged, we dropped all crime incident reports which did not include a geotag. "
   ]
  },
  {
   "cell_type": "code",
   "execution_count": 16,
   "metadata": {
    "collapsed": true
   },
   "outputs": [],
   "source": [
    "new_df = dftouse.drop(dftouse[dftouse['Location']=='(0.0, 0.0)'].index)"
   ]
  },
  {
   "cell_type": "markdown",
   "metadata": {},
   "source": [
    "Here we assign a \"severity score\" to each type of crime. These scores were compiled using the following sources: \n",
    "* http://www.mass.gov/courts/docs/admin/sentcomm/mastercrimelist.pdf\n"
   ]
  },
  {
   "cell_type": "code",
   "execution_count": 91,
   "metadata": {
    "collapsed": false
   },
   "outputs": [
    {
     "data": {
      "text/plain": [
       "1      116968\n",
       "4       41969\n",
       "5       29329\n",
       "2       19918\n",
       "3       14640\n",
       "6       13255\n",
       "9        5725\n",
       "8        4944\n",
       "NaN      4358\n",
       "0        1282\n",
       "7         548\n",
       "10        139\n",
       "dtype: int64"
      ]
     },
     "execution_count": 91,
     "metadata": {},
     "output_type": "execute_result"
    }
   ],
   "source": [
    "new_df['INCIDENT_TYPE_DESCRIPTION'] = new_df['INCIDENT_TYPE_DESCRIPTION'].apply(lambda x: x.lower())\n",
    "\n",
    "new_df['SCORE'] = 'NaN'\n",
    "#new_df.iloc(new_df['INCIDENT_TYPE_DESCRIPTION']=='HOMICIDE')\n",
    "new_df.ix[new_df['INCIDENT_TYPE_DESCRIPTION']=='homicide', 'SCORE'] = 10\n",
    "\n",
    "new_df.ix[new_df['INCIDENT_TYPE_DESCRIPTION']=='rape and attempted', 'SCORE'] = 9\n",
    "new_df.ix[new_df['INCIDENT_TYPE_DESCRIPTION']=='aggravated assault', 'SCORE'] = 9\n",
    "new_df.ix[new_df['INCIDENT_TYPE_DESCRIPTION']=='manslaug', 'SCORE'] = 9\n",
    "\n",
    "truelist = (new_df['INCIDENT_TYPE_DESCRIPTION']=='hatecrim') & (new_df['NatureCode']=='FIGHT ')\n",
    "new_df.ix[truelist, 'SCORE'] = 8\n",
    "new_df.ix[new_df['INCIDENT_TYPE_DESCRIPTION']=='robbery', 'SCORE'] = 8\n",
    "\n",
    "new_df.ix[new_df['INCIDENT_TYPE_DESCRIPTION']=='crimes against children', 'SCORE'] = 7\n",
    "\n",
    "truelist = (new_df['INCIDENT_TYPE_DESCRIPTION']=='service') & (new_df['NatureCode']=='ROBBER')\n",
    "new_df.ix[truelist, 'SCORE'] = 6\n",
    "new_df.ix[new_df['INCIDENT_TYPE_DESCRIPTION']=='arson', 'SCORE'] = 6\n",
    "new_df.ix[new_df['INCIDENT_TYPE_DESCRIPTION']=='residential burglary', 'SCORE'] = 6\n",
    "new_df.ix[new_df['INCIDENT_TYPE_DESCRIPTION']=='commercial burglary', 'SCORE'] = 6\n",
    "new_df.ix[new_df['INCIDENT_TYPE_DESCRIPTION']=='other burglary', 'SCORE'] = 6\n",
    "new_df.ix[new_df['INCIDENT_TYPE_DESCRIPTION']=='harbor related incidents', 'SCORE'] =6\n",
    "new_df.ix[new_df['INCIDENT_TYPE_DESCRIPTION']=='indecent assault', 'SCORE'] = 6\n",
    "new_df.ix[new_df['INCIDENT_TYPE_DESCRIPTION']=='auto theft', 'SCORE'] = 6\n",
    "\n",
    "new_df.ix[new_df['INCIDENT_TYPE_DESCRIPTION']=='simple assault', 'SCORE'] = 5\n",
    "new_df.ix[new_df['INCIDENT_TYPE_DESCRIPTION']=='drug violation', 'SCORE'] = 5\n",
    "new_df.ix[new_df['INCIDENT_TYPE_DESCRIPTION']=='drug charges', 'SCORE'] = 5\n",
    "new_df.ix[new_df['INCIDENT_TYPE_DESCRIPTION']=='explos', 'SCORE'] = 5\n",
    "new_df.ix[new_df['INCIDENT_TYPE_DESCRIPTION']=='explosives', 'SCORE'] = 5\n",
    "new_df.ix[new_df['INCIDENT_TYPE_DESCRIPTION']=='offenses against child/family', 'SCORE'] = 5\n",
    "\n",
    "truelist = (new_df['INCIDENT_TYPE_DESCRIPTION']=='service') & (new_df['NatureCode']=='ARREST')\n",
    "new_df.ix[truelist, 'SCORE'] = 4\n",
    "new_df.ix[new_df['INCIDENT_TYPE_DESCRIPTION']=='counterfeiting', 'SCORE'] = 4\n",
    "new_df.ix[new_df['INCIDENT_TYPE_DESCRIPTION']=='larceny', 'SCORE'] = 4\n",
    "new_df.ix[new_df['INCIDENT_TYPE_DESCRIPTION']=='other larceny', 'SCORE'] = 4\n",
    "new_df.ix[new_df['INCIDENT_TYPE_DESCRIPTION']=='firearm violations', 'SCORE'] = 4\n",
    "new_df.ix[new_df['INCIDENT_TYPE_DESCRIPTION']=='weapons charge', 'SCORE'] = 4\n",
    "new_df.ix[new_df['INCIDENT_TYPE_DESCRIPTION']=='prostitution', 'SCORE'] = 4\n",
    "new_df.ix[new_df['INCIDENT_TYPE_DESCRIPTION']=='prostitution charges', 'SCORE'] = 4\n",
    "new_df.ix[new_df['INCIDENT_TYPE_DESCRIPTION']=='criminal harassment', 'SCORE'] = 4\n",
    "new_df.ix[new_df['INCIDENT_TYPE_DESCRIPTION']=='bomb hoax', 'SCORE'] = 4\n",
    "new_df.ix[new_df['INCIDENT_TYPE_DESCRIPTION']=='biothreat', 'SCORE'] = 4\n",
    "new_df.ix[new_df['INCIDENT_TYPE_DESCRIPTION']=='restrain', 'SCORE'] = 4\n",
    "new_df.ix[new_df['INCIDENT_TYPE_DESCRIPTION']=='auto theft recovery', 'SCORE'] = 4\n",
    "new_df.ix[new_df['INCIDENT_TYPE_DESCRIPTION']=='warrant arrests', 'SCORE'] = 4\n",
    "new_df.ix[new_df['INCIDENT_TYPE_DESCRIPTION']=='larceny from motor vehicle', 'SCORE'] = 4\n",
    "\n",
    "truelist = (new_df['INCIDENT_TYPE_DESCRIPTION']=='aircraft') & (new_df['NatureCode']=='HITRUN')\n",
    "new_df.ix[truelist, 'SCORE'] = 3\n",
    "new_df.ix[new_df['INCIDENT_TYPE_DESCRIPTION']=='arrest', 'SCORE'] = 3\n",
    "new_df.ix[new_df['INCIDENT_TYPE_DESCRIPTION']=='firearm discovery', 'SCORE'] = 3\n",
    "new_df.ix[new_df['INCIDENT_TYPE_DESCRIPTION']=='confidence games', 'SCORE'] = 3\n",
    "new_df.ix[new_df['INCIDENT_TYPE_DESCRIPTION']=='ballist', 'SCORE'] = 3\n",
    "new_df.ix[new_df['INCIDENT_TYPE_DESCRIPTION']=='ballistics', 'SCORE'] = 3\n",
    "new_df.ix[new_df['INCIDENT_TYPE_DESCRIPTION']=='sex offender registration', 'SCORE'] = 3\n",
    "new_df.ix[new_df['INCIDENT_TYPE_DESCRIPTION']=='sexreg', 'SCORE'] = 3\n",
    "new_df.ix[new_df['INCIDENT_TYPE_DESCRIPTION']=='restraining order violations', 'SCORE'] = 3\n",
    "new_df.ix[new_df['INCIDENT_TYPE_DESCRIPTION']=='harass', 'SCORE'] = 3\n",
    "new_df.ix[new_df['INCIDENT_TYPE_DESCRIPTION']=='forgery', 'SCORE'] = 3\n",
    "new_df.ix[new_df['INCIDENT_TYPE_DESCRIPTION']=='embezellment', 'SCORE'] = 3\n",
    "new_df.ix[new_df['INCIDENT_TYPE_DESCRIPTION']=='embezzlement', 'SCORE'] = 3\n",
    "new_df.ix[new_df['INCIDENT_TYPE_DESCRIPTION']=='operating under the influence', 'SCORE'] = 3\n",
    "new_df.ix[new_df['INCIDENT_TYPE_DESCRIPTION']=='operating under influence', 'SCORE'] = 3\n",
    "new_df.ix[new_df['INCIDENT_TYPE_DESCRIPTION']=='fraud', 'SCORE'] = 3\n",
    "\n",
    "truelist = (new_df['INCIDENT_TYPE_DESCRIPTION']=='hatecrim') & (new_df['NatureCode']=='THREAT')\n",
    "new_df.ix[truelist, 'SCORE'] = 2\n",
    "truelist = (new_df['INCIDENT_TYPE_DESCRIPTION']=='hatecrim') & (new_df['NatureCode']=='DISTRB')\n",
    "new_df.ix[truelist, 'SCORE'] = 2\n",
    "truelist = (new_df['INCIDENT_TYPE_DESCRIPTION']=='service') & (new_df['NatureCode']=='FIGHT ')\n",
    "new_df.ix[truelist, 'SCORE'] = 2\n",
    "new_df.ix[new_df['INCIDENT_TYPE_DESCRIPTION']=='recovered stolen property', 'SCORE'] = 2\n",
    "new_df.ix[new_df['INCIDENT_TYPE_DESCRIPTION']=='vandalism', 'SCORE'] = 2\n",
    "new_df.ix[new_df['INCIDENT_TYPE_DESCRIPTION']=='benoprop', 'SCORE'] = 2\n",
    "new_df.ix[new_df['INCIDENT_TYPE_DESCRIPTION']=='searchwarr', 'SCORE'] = 2\n",
    "new_df.ix[new_df['INCIDENT_TYPE_DESCRIPTION']=='stolen property charges', 'SCORE'] = 2\n",
    "new_df.ix[new_df['INCIDENT_TYPE_DESCRIPTION']=='violation of liquor laws', 'SCORE'] = 2\n",
    "new_df.ix[new_df['INCIDENT_TYPE_DESCRIPTION']=='liquor violation', 'SCORE'] = 2\n",
    "new_df.ix[new_df['INCIDENT_TYPE_DESCRIPTION']=='licviol', 'SCORE'] = 2\n",
    "new_df.ix[new_df['INCIDENT_TYPE_DESCRIPTION']=='search warrants', 'SCORE'] = 2\n",
    "new_df.ix[new_df['INCIDENT_TYPE_DESCRIPTION']=='police service incidents', 'SCORE'] = 2\n",
    "new_df.ix[new_df['INCIDENT_TYPE_DESCRIPTION']=='assembly or gathering violations', 'SCORE'] = 2\n",
    "new_df.ix[new_df['INCIDENT_TYPE_DESCRIPTION']=='disorderly', 'SCORE'] = 2\n",
    "new_df.ix[new_df['INCIDENT_TYPE_DESCRIPTION']=='property related damage', 'SCORE'] = 2\n",
    "\n",
    "new_df.ix[new_df['INCIDENT_TYPE_DESCRIPTION']=='death investigation', 'SCORE'] = 1\n",
    "truelist = (new_df['INCIDENT_TYPE_DESCRIPTION']=='service') & (new_df['NatureCode']=='IVPER ')\n",
    "new_df.ix[truelist, 'SCORE'] = 1\n",
    "truelist = (new_df['INCIDENT_TYPE_DESCRIPTION']=='hatecrim') & (new_df['NatureCode']=='IVPER')\n",
    "new_df.ix[truelist, 'SCORE'] = 1\n",
    "truelist = (new_df['INCIDENT_TYPE_DESCRIPTION']=='service') & (new_df['NatureCode']=='CURFEW')\n",
    "new_df.ix[truelist, 'SCORE'] = 1\n",
    "truelist = (new_df['INCIDENT_TYPE_DESCRIPTION']=='service') & (new_df['NatureCode']=='SSTOP')\n",
    "new_df.ix[truelist, 'SCORE'] = 1\n",
    "truelist = (new_df['INCIDENT_TYPE_DESCRIPTION']=='service') & (new_df['NatureCode']=='MISC')\n",
    "new_df.ix[truelist, 'SCORE'] = 1\n",
    "truelist = (new_df['INCIDENT_TYPE_DESCRIPTION']=='service') & (new_df['NatureCode']=='LARCRT')\n",
    "new_df.ix[truelist, 'SCORE'] = 1\n",
    "truelist = (new_df['INCIDENT_TYPE_DESCRIPTION']=='service') & (new_df['NatureCode']=='IVPREM')\n",
    "new_df.ix[truelist, 'SCORE'] = 1\n",
    "truelist = (new_df['INCIDENT_TYPE_DESCRIPTION']=='service') & (new_df['NatureCode']=='IVPER')\n",
    "new_df.ix[truelist, 'SCORE'] = 1\n",
    "new_df.ix[new_df['INCIDENT_TYPE_DESCRIPTION']=='investigate person', 'SCORE'] = 1\n",
    "new_df.ix[new_df['INCIDENT_TYPE_DESCRIPTION']=='invper', 'SCORE'] = 1\n",
    "new_df.ix[new_df['INCIDENT_TYPE_DESCRIPTION']=='invprop', 'SCORE'] = 1\n",
    "new_df.ix[new_df['INCIDENT_TYPE_DESCRIPTION']=='invveh', 'SCORE'] = 1\n",
    "new_df.ix[new_df['INCIDENT_TYPE_DESCRIPTION']=='investigate property', 'SCORE'] = 1\n",
    "new_df.ix[new_df['INCIDENT_TYPE_DESCRIPTION']=='disorderly conduct', 'SCORE'] = 1\n",
    "new_df.ix[new_df['INCIDENT_TYPE_DESCRIPTION']=='motor vehicle accident response', 'SCORE'] = 1\n",
    "new_df.ix[new_df['INCIDENT_TYPE_DESCRIPTION']=='verbal disputes', 'SCORE'] = 1\n",
    "new_df.ix[new_df['INCIDENT_TYPE_DESCRIPTION']=='violations', 'SCORE'] = 1\n",
    "new_df.ix[new_df['INCIDENT_TYPE_DESCRIPTION']=='trespass', 'SCORE'] = 1\n",
    "new_df.ix[new_df['INCIDENT_TYPE_DESCRIPTION']=='skipfare', 'SCORE'] = 1\n",
    "new_df.ix[new_df['INCIDENT_TYPE_DESCRIPTION']=='license violation', 'SCORE'] = 1\n",
    "new_df.ix[new_df['INCIDENT_TYPE_DESCRIPTION']=='fire related reports', 'SCORE'] = 1\n",
    "new_df.ix[new_df['INCIDENT_TYPE_DESCRIPTION']=='fire related reports', 'SCORE'] = 1\n",
    "new_df.ix[new_df['INCIDENT_TYPE_DESCRIPTION']=='landlord/tenant disputes', 'SCORE'] = 1\n",
    "new_df.ix[new_df['INCIDENT_TYPE_DESCRIPTION']=='missing person reported', 'SCORE'] = 1\n",
    "new_df.ix[new_df['INCIDENT_TYPE_DESCRIPTION']=='missing person located', 'SCORE'] = 1\n",
    "new_df.ix[new_df['INCIDENT_TYPE_DESCRIPTION']=='persloc', 'SCORE'] = 1\n",
    "new_df.ix[new_df['INCIDENT_TYPE_DESCRIPTION']=='val', 'SCORE'] = 1\n",
    "new_df.ix[new_df['INCIDENT_TYPE_DESCRIPTION']=='argue', 'SCORE'] = 1\n",
    "new_df.ix[new_df['INCIDENT_TYPE_DESCRIPTION']=='mvacc', 'SCORE'] = 1\n",
    "new_df.ix[new_df['INCIDENT_TYPE_DESCRIPTION']=='phonecalls', 'SCORE'] = 1\n",
    "new_df.ix[new_df['INCIDENT_TYPE_DESCRIPTION']=='other', 'SCORE'] = 1\n",
    "new_df.ix[new_df['INCIDENT_TYPE_DESCRIPTION']=='medical assistance', 'SCORE'] = 1\n",
    "new_df.ix[new_df['INCIDENT_TYPE_DESCRIPTION']=='medassist', 'SCORE'] = 1\n",
    "new_df.ix[new_df['INCIDENT_TYPE_DESCRIPTION']=='property theft', 'SCORE'] = 1\n",
    "new_df.ix[new_df['INCIDENT_TYPE_DESCRIPTION']=='proplost', 'SCORE'] = 1\n",
    "new_df.ix[new_df['INCIDENT_TYPE_DESCRIPTION']=='propfound', 'SCORE'] = 1\n",
    "new_df.ix[new_df['INCIDENT_TYPE_DESCRIPTION']=='property lost', 'SCORE'] = 1\n",
    "new_df.ix[new_df['INCIDENT_TYPE_DESCRIPTION']=='towed', 'SCORE'] = 1\n",
    "new_df.ix[new_df['INCIDENT_TYPE_DESCRIPTION']=='property found', 'SCORE'] = 1\n",
    "new_df.ix[new_df['INCIDENT_TYPE_DESCRIPTION']=='prisoner related incidents', 'SCORE'] = 1\n",
    "new_df.ix[new_df['INCIDENT_TYPE_DESCRIPTION']=='license plate related incidents', 'SCORE'] = 1\n",
    "new_df.ix[new_df['INCIDENT_TYPE_DESCRIPTION']=='evading fare', 'SCORE'] = 1\n",
    "new_df.ix[new_df['INCIDENT_TYPE_DESCRIPTION']=='fire', 'SCORE'] = 1\n",
    "new_df.ix[new_df['INCIDENT_TYPE_DESCRIPTION']=='propdam', 'SCORE'] = 1\n",
    "new_df.ix[new_df['INCIDENT_TYPE_DESCRIPTION']=='plates', 'SCORE'] = 1\n",
    "new_df.ix[new_df['INCIDENT_TYPE_DESCRIPTION']=='gambling offense', 'SCORE'] = 1\n",
    "new_df.ix[new_df['INCIDENT_TYPE_DESCRIPTION']=='landlord', 'SCORE'] = 1\n",
    "new_df.ix[new_df['INCIDENT_TYPE_DESCRIPTION']=='pubdrink', 'SCORE'] = 1\n",
    "new_df.ix[new_df['INCIDENT_TYPE_DESCRIPTION']=='gather', 'SCORE'] = 1\n",
    "new_df.ix[new_df['INCIDENT_TYPE_DESCRIPTION']=='burgtools', 'SCORE'] = 1\n",
    "new_df.ix[new_df['INCIDENT_TYPE_DESCRIPTION']=='runaway', 'SCORE'] = 1\n",
    "truelist = (new_df['INCIDENT_TYPE_DESCRIPTION']=='death investigation') & (new_df['NatureCode']=='UNK')\n",
    "new_df.ix[truelist, 'SCORE'] = 1\n",
    "truelist = (new_df['INCIDENT_TYPE_DESCRIPTION']=='death investigation') & (new_df['NatureCode']=='INVEST')\n",
    "new_df.ix[truelist, 'SCORE'] = 1\n",
    "truelist = (new_df['INCIDENT_TYPE_DESCRIPTION']=='death investigation') & (new_df['NatureCode']=='UNKEMS')\n",
    "new_df.ix[truelist, 'SCORE'] = 1\n",
    "truelist = (new_df['INCIDENT_TYPE_DESCRIPTION']=='death investigation') & (new_df['NatureCode']=='UNCONS')\n",
    "new_df.ix[truelist, 'SCORE'] = 1\n",
    "truelist = (new_df['INCIDENT_TYPE_DESCRIPTION']=='hatecrim') & (new_df['NatureCode']=='HARPT')\n",
    "new_df.ix[truelist, 'SCORE'] = 1\n",
    "\n",
    "# These incidents are either not crimes or are crimes of unknown severity\n",
    "new_df.ix[new_df['INCIDENT_TYPE_DESCRIPTION']=='harbor', 'SCORE'] = 0\n",
    "truelist = (new_df['INCIDENT_TYPE_DESCRIPTION']=='aircraft') & (new_df['NatureCode']=='ALERT2')\n",
    "new_df.ix[truelist, 'SCORE'] = 0\n",
    "truelist = (new_df['INCIDENT_TYPE_DESCRIPTION']=='aircraft') & (new_df['NatureCode']=='LOGAN')\n",
    "new_df.ix[truelist, 'SCORE'] = 0\n",
    "truelist = (new_df['INCIDENT_TYPE_DESCRIPTION']=='death investigation') & (new_df['NatureCode']=='CARDIA')\n",
    "new_df.ix[truelist, 'SCORE'] = 0\n",
    "new_df.ix[new_df['INCIDENT_TYPE_DESCRIPTION']=='persmiss', 'SCORE'] = 0\n",
    "\n",
    "\n",
    "#new_df[new_df['INCIDENT_TYPE_DESCRIPTION']=='explos']\n",
    "\n",
    "#new_df[new_df['SCORE']=='NaN']\n",
    "# grouped.head()\n",
    "\n",
    "# #new_df[new_df['SCORE']=='NaN'].sort(['INCIDENT_TYPE_DESCRIPTION'])\n",
    "#new_df[new_df['SCORE']=='NaN']['INCIDENT_TYPE_DESCRIPTION'].value_counts()\n",
    "new_df['SCORE'].value_counts()\n",
    "\n",
    "#     #print elm\n",
    "# #new_df['SCORE'] = 10"
   ]
  },
  {
   "cell_type": "markdown",
   "metadata": {},
   "source": [
    "We then calculated the costs associated with each crime based on the following resources:\n",
    "\n",
    "* http://www.ncbi.nlm.nih.gov/pmc/articles/PMC2835847/\n",
    "* https://www.fbi.gov/about-us/cjis/ucr/crime-in-the-u.s/2010/crime-in-the-u.s.-2010/index-page\n",
    "\n",
    "We only took into account the costs that could be prevented if the crimes themselves were not committed. Thus we factor in the costs to victims and society, but not legal or disciplinary costs. "
   ]
  },
  {
   "cell_type": "code",
   "execution_count": 88,
   "metadata": {
    "collapsed": false
   },
   "outputs": [
    {
     "data": {
      "text/plain": [
       "50        78840\n",
       "480       37543\n",
       "1000      31731\n",
       "20        20227\n",
       "100       18949\n",
       "500       16039\n",
       "3299      13483\n",
       "0         11027\n",
       "3000       8497\n",
       "8700       5716\n",
       "6114       4661\n",
       "NaN        3922\n",
       "300         786\n",
       "10          644\n",
       "6000        548\n",
       "2000        251\n",
       "737517      147\n",
       "11452        31\n",
       "5556         20\n",
       "250          13\n",
       "dtype: int64"
      ]
     },
     "execution_count": 88,
     "metadata": {},
     "output_type": "execute_result"
    }
   ],
   "source": [
    "new_df['INCIDENT_TYPE_DESCRIPTION'] = new_df['INCIDENT_TYPE_DESCRIPTION'].apply(lambda x: x.lower())\n",
    "\n",
    "new_df['COST'] = 'NaN'\n",
    "#new_df.iloc(new_df['INCIDENT_TYPE_DESCRIPTION']=='HOMICIDE')\n",
    "new_df.ix[new_df['INCIDENT_TYPE_DESCRIPTION']=='homicide', 'COST'] = 737517\n",
    "new_df.ix[new_df['INCIDENT_TYPE_DESCRIPTION']=='manslaug', 'COST'] = 737517\n",
    "new_df.ix[new_df['INCIDENT_TYPE_DESCRIPTION']=='residential burglary', 'COST'] = 3299\n",
    "new_df.ix[new_df['INCIDENT_TYPE_DESCRIPTION']=='commercial burglary', 'COST'] = 3299\n",
    "new_df.ix[new_df['INCIDENT_TYPE_DESCRIPTION']=='other burglary', 'COST'] = 3299\n",
    "new_df.ix[new_df['INCIDENT_TYPE_DESCRIPTION']=='harbor related incidents', 'COST'] = 3299\n",
    "new_df.ix[new_df['INCIDENT_TYPE_DESCRIPTION']=='indecent assault', 'COST'] = 5556\n",
    "new_df.ix[new_df['INCIDENT_TYPE_DESCRIPTION']=='property related damage', 'COST'] = 2000\n",
    "new_df.ix[new_df['INCIDENT_TYPE_DESCRIPTION']=='auto theft recovery', 'COST'] = 0 \n",
    "new_df.ix[new_df['INCIDENT_TYPE_DESCRIPTION']=='auto theft', 'COST'] = 6114\n",
    "new_df.ix[new_df['INCIDENT_TYPE_DESCRIPTION']=='aggravated assault', 'COST'] = 8700\n",
    "new_df.ix[new_df['INCIDENT_TYPE_DESCRIPTION']=='robbery', 'COST'] = 3299\n",
    "new_df.ix[new_df['INCIDENT_TYPE_DESCRIPTION']=='crimes against children', 'COST'] = 6000\n",
    "new_df.ix[new_df['INCIDENT_TYPE_DESCRIPTION']=='rape and attempted', 'COST'] = 5556\n",
    "new_df.ix[new_df['INCIDENT_TYPE_DESCRIPTION']=='arson', 'COST'] = 11452\n",
    "new_df.ix[new_df['INCIDENT_TYPE_DESCRIPTION']=='simple assault', 'COST'] = 1000\n",
    "new_df.ix[new_df['INCIDENT_TYPE_DESCRIPTION']=='warrant arrests', 'COST'] = 100\n",
    "new_df.ix[new_df['INCIDENT_TYPE_DESCRIPTION']=='larceny from motor vehicle', 'COST'] = 480\n",
    "new_df.ix[new_df['INCIDENT_TYPE_DESCRIPTION']=='drug violation', 'COST'] = 500\n",
    "new_df.ix[new_df['INCIDENT_TYPE_DESCRIPTION']=='drug charges', 'COST'] = 500\n",
    "truelist = (new_df['INCIDENT_TYPE_DESCRIPTION']=='service') & (new_df['NatureCode']=='ARREST')\n",
    "new_df.ix[truelist, 'COST'] = 100\n",
    "new_df.ix[new_df['INCIDENT_TYPE_DESCRIPTION']=='counterfeiting', 'COST'] = 500\n",
    "new_df.ix[new_df['INCIDENT_TYPE_DESCRIPTION']=='larceny', 'COST'] = 480\n",
    "new_df.ix[new_df['INCIDENT_TYPE_DESCRIPTION']=='other larceny', 'COST'] = 480\n",
    "new_df.ix[new_df['INCIDENT_TYPE_DESCRIPTION']=='arrest', 'COST'] = 100\n",
    "new_df.ix[new_df['INCIDENT_TYPE_DESCRIPTION']=='firearm violations', 'COST'] = 100\n",
    "new_df.ix[new_df['INCIDENT_TYPE_DESCRIPTION']=='weapons charge', 'COST'] = 100\n",
    "new_df.ix[new_df['INCIDENT_TYPE_DESCRIPTION']=='prostitution', 'COST'] = 500\n",
    "new_df.ix[new_df['INCIDENT_TYPE_DESCRIPTION']=='prostitution charges', 'COST'] = 500\n",
    "new_df.ix[new_df['INCIDENT_TYPE_DESCRIPTION']=='criminal harassment', 'COST'] = 500\n",
    "new_df.ix[new_df['INCIDENT_TYPE_DESCRIPTION']=='offenses against child/family', 'COST'] = 1000\n",
    "new_df.ix[new_df['INCIDENT_TYPE_DESCRIPTION']=='bomb hoax', 'COST'] = 1000\n",
    "new_df.ix[new_df['INCIDENT_TYPE_DESCRIPTION']=='bomb', 'COST'] = 1000\n",
    "new_df.ix[new_df['INCIDENT_TYPE_DESCRIPTION']=='explos', 'COST'] = 1000\n",
    "new_df.ix[new_df['INCIDENT_TYPE_DESCRIPTION']=='explosives', 'COST'] = 1000\n",
    "new_df.ix[new_df['INCIDENT_TYPE_DESCRIPTION']=='restrain', 'COST'] = 1000\n",
    "new_df.ix[new_df['INCIDENT_TYPE_DESCRIPTION']=='firearm discovery', 'COST'] = 100\n",
    "new_df.ix[new_df['INCIDENT_TYPE_DESCRIPTION']=='confidence games', 'COST'] = 500\n",
    "new_df.ix[new_df['INCIDENT_TYPE_DESCRIPTION']=='ballist', 'COST'] = 100\n",
    "new_df.ix[new_df['INCIDENT_TYPE_DESCRIPTION']=='ballistics', 'COST'] = 100\n",
    "new_df.ix[new_df['INCIDENT_TYPE_DESCRIPTION']=='sex offender registration', 'COST'] = 100\n",
    "new_df.ix[new_df['INCIDENT_TYPE_DESCRIPTION']=='sexreg', 'COST'] = 100\n",
    "new_df.ix[new_df['INCIDENT_TYPE_DESCRIPTION']=='restraining order violations', 'COST'] = 500\n",
    "new_df.ix[new_df['INCIDENT_TYPE_DESCRIPTION']=='harass', 'COST'] = 500\n",
    "new_df.ix[new_df['INCIDENT_TYPE_DESCRIPTION']=='forgery', 'COST'] = 500\n",
    "new_df.ix[new_df['INCIDENT_TYPE_DESCRIPTION']=='embezellment', 'COST'] = 2000\n",
    "new_df.ix[new_df['INCIDENT_TYPE_DESCRIPTION']=='embezzlement', 'COST'] = 2000\n",
    "new_df.ix[new_df['INCIDENT_TYPE_DESCRIPTION']=='operating under the influence', 'COST'] = 500\n",
    "new_df.ix[new_df['INCIDENT_TYPE_DESCRIPTION']=='operating under influence', 'COST'] = 500\n",
    "new_df.ix[new_df['INCIDENT_TYPE_DESCRIPTION']=='fraud', 'COST'] = 3000\n",
    "new_df.ix[new_df['INCIDENT_TYPE_DESCRIPTION']=='hatecrim', 'COST'] = 500\n",
    "truelist = (new_df['INCIDENT_TYPE_DESCRIPTION']=='hatecrim') & (new_df['NatureCode']=='FIGHT ')\n",
    "new_df.ix[truelist, 'COST'] = 1000\n",
    "truelist = (new_df['INCIDENT_TYPE_DESCRIPTION']=='hatecrim') & (new_df['NatureCode']=='THREAT')\n",
    "new_df.ix[truelist, 'COST'] = 100\n",
    "new_df.ix[new_df['INCIDENT_TYPE_DESCRIPTION']=='recovered stolen property', 'COST'] = 0\n",
    "new_df.ix[new_df['INCIDENT_TYPE_DESCRIPTION']=='vandalism', 'COST'] = 1000\n",
    "new_df.ix[new_df['INCIDENT_TYPE_DESCRIPTION']=='benoprop', 'COST'] = 100\n",
    "new_df.ix[new_df['INCIDENT_TYPE_DESCRIPTION']=='searchwarr', 'COST'] = 100\n",
    "new_df.ix[new_df['INCIDENT_TYPE_DESCRIPTION']=='stolen property charges', 'COST'] = 300\n",
    "new_df.ix[new_df['INCIDENT_TYPE_DESCRIPTION']=='violation of liquor laws', 'COST'] = 50\n",
    "new_df.ix[new_df['INCIDENT_TYPE_DESCRIPTION']=='liquor violation', 'COST'] = 50\n",
    "new_df.ix[new_df['INCIDENT_TYPE_DESCRIPTION']=='licviol', 'COST'] = 50\n",
    "new_df.ix[new_df['INCIDENT_TYPE_DESCRIPTION']=='search warrants', 'COST'] = 100\n",
    "new_df.ix[new_df['INCIDENT_TYPE_DESCRIPTION']=='police service incidents', 'COST'] = 100\n",
    "new_df.ix[new_df['INCIDENT_TYPE_DESCRIPTION']=='assembly or gathering violations', 'COST'] = 100\n",
    "new_df.ix[new_df['INCIDENT_TYPE_DESCRIPTION']=='disorderly', 'COST'] = 50\n",
    "new_df.ix[new_df['INCIDENT_TYPE_DESCRIPTION']=='investigate person', 'COST'] = 50\n",
    "new_df.ix[new_df['INCIDENT_TYPE_DESCRIPTION']=='invper', 'COST'] = 50\n",
    "new_df.ix[new_df['INCIDENT_TYPE_DESCRIPTION']=='invprop', 'COST'] = 50\n",
    "new_df.ix[new_df['INCIDENT_TYPE_DESCRIPTION']=='invveh', 'COST'] = 50\n",
    "new_df.ix[new_df['INCIDENT_TYPE_DESCRIPTION']=='investigate property', 'COST'] = 50\n",
    "new_df.ix[new_df['INCIDENT_TYPE_DESCRIPTION']=='disorderly conduct', 'COST'] = 50\n",
    "new_df.ix[new_df['INCIDENT_TYPE_DESCRIPTION']=='motor vehicle accident response', 'COST'] = 50\n",
    "new_df.ix[new_df['INCIDENT_TYPE_DESCRIPTION']=='verbal disputes', 'COST'] = 50\n",
    "new_df.ix[new_df['INCIDENT_TYPE_DESCRIPTION']=='violations', 'COST'] = 50\n",
    "new_df.ix[new_df['INCIDENT_TYPE_DESCRIPTION']=='trespass', 'COST'] = 50\n",
    "new_df.ix[new_df['INCIDENT_TYPE_DESCRIPTION']=='skipfare', 'COST'] = 20\n",
    "new_df.ix[new_df['INCIDENT_TYPE_DESCRIPTION']=='license violation', 'COST'] = 50\n",
    "new_df.ix[new_df['INCIDENT_TYPE_DESCRIPTION']=='fire related reports', 'COST'] = 50\n",
    "new_df.ix[new_df['INCIDENT_TYPE_DESCRIPTION']=='fire related reports', 'COST'] = 50\n",
    "new_df.ix[new_df['INCIDENT_TYPE_DESCRIPTION']=='landlord/tenant disputes', 'COST'] = 50\n",
    "new_df.ix[new_df['INCIDENT_TYPE_DESCRIPTION']=='missing person reported', 'COST'] = 100\n",
    "new_df.ix[new_df['INCIDENT_TYPE_DESCRIPTION']=='missing person located', 'COST'] = 0\n",
    "new_df.ix[new_df['INCIDENT_TYPE_DESCRIPTION']=='persloc', 'COST'] = 50\n",
    "new_df.ix[new_df['INCIDENT_TYPE_DESCRIPTION']=='val', 'COST'] = 50\n",
    "new_df.ix[new_df['INCIDENT_TYPE_DESCRIPTION']=='argue', 'COST'] = 50\n",
    "new_df.ix[new_df['INCIDENT_TYPE_DESCRIPTION']=='mvacc', 'COST'] = 50\n",
    "new_df.ix[new_df['INCIDENT_TYPE_DESCRIPTION']=='phonecalls', 'COST'] = 20\n",
    "new_df.ix[new_df['INCIDENT_TYPE_DESCRIPTION']=='medical assistance', 'COST'] = 20\n",
    "new_df.ix[new_df['INCIDENT_TYPE_DESCRIPTION']=='medassist', 'COST'] = 20\n",
    "new_df.ix[new_df['INCIDENT_TYPE_DESCRIPTION']=='property theft', 'COST'] = 300\n",
    "new_df.ix[new_df['INCIDENT_TYPE_DESCRIPTION']=='proplost', 'COST'] = 100\n",
    "new_df.ix[new_df['INCIDENT_TYPE_DESCRIPTION']=='property lost', 'COST'] = 100\n",
    "new_df.ix[new_df['INCIDENT_TYPE_DESCRIPTION']=='towed', 'COST'] = 50\n",
    "new_df.ix[new_df['INCIDENT_TYPE_DESCRIPTION']=='prisoner related incidents', 'COST'] = 50\n",
    "new_df.ix[new_df['INCIDENT_TYPE_DESCRIPTION']=='license plate related incidents', 'COST'] = 50\n",
    "new_df.ix[new_df['INCIDENT_TYPE_DESCRIPTION']=='evading fare', 'COST'] = 20\n",
    "new_df.ix[new_df['INCIDENT_TYPE_DESCRIPTION']=='fire', 'COST'] = 100\n",
    "new_df.ix[new_df['INCIDENT_TYPE_DESCRIPTION']=='propdam', 'COST'] = 500\n",
    "new_df.ix[new_df['INCIDENT_TYPE_DESCRIPTION']=='plates', 'COST'] = 20\n",
    "new_df.ix[new_df['INCIDENT_TYPE_DESCRIPTION']=='gambling offense', 'COST'] = 250\n",
    "new_df.ix[new_df['INCIDENT_TYPE_DESCRIPTION']=='landlord', 'COST'] = 20\n",
    "new_df.ix[new_df['INCIDENT_TYPE_DESCRIPTION']=='hazardous', 'COST'] = 500\n",
    "new_df.ix[new_df['INCIDENT_TYPE_DESCRIPTION']=='biothreat', 'COST'] = 1000\n",
    "truelist = (new_df['INCIDENT_TYPE_DESCRIPTION']=='service') & (new_df['NatureCode']=='CURFEW')\n",
    "new_df.ix[truelist, 'COST'] = 10\n",
    "truelist = (new_df['INCIDENT_TYPE_DESCRIPTION']=='service') & (new_df['NatureCode']=='SSTOP')\n",
    "new_df.ix[truelist, 'COST'] = 10\n",
    "truelist = (new_df['INCIDENT_TYPE_DESCRIPTION']=='service') & (new_df['NatureCode']=='MISC')\n",
    "new_df.ix[truelist, 'COST'] = 10\n",
    "truelist = (new_df['INCIDENT_TYPE_DESCRIPTION']=='service') & (new_df['NatureCode']=='LARCRT')\n",
    "new_df.ix[truelist, 'COST'] = 10\n",
    "truelist = (new_df['INCIDENT_TYPE_DESCRIPTION']=='service') & (new_df['NatureCode']=='IVPREM')\n",
    "new_df.ix[truelist, 'COST'] = 10\n",
    "truelist = (new_df['INCIDENT_TYPE_DESCRIPTION']=='service') & (new_df['NatureCode']=='IVPER')\n",
    "new_df.ix[truelist, 'COST'] = 10\n",
    "\n",
    "\n",
    "# These incidents are either not crimes or are crimes of unknown severity\n",
    "new_df.ix[new_df['INCIDENT_TYPE_DESCRIPTION']=='harbor', 'COST'] = 0\n",
    "new_df.ix[new_df['INCIDENT_TYPE_DESCRIPTION']=='pubdrink', 'COST'] = 0\n",
    "new_df.ix[new_df['INCIDENT_TYPE_DESCRIPTION']=='other', 'COST'] = 0\n",
    "new_df.ix[new_df['INCIDENT_TYPE_DESCRIPTION']=='propfound', 'COST'] = 0\n",
    "new_df.ix[new_df['INCIDENT_TYPE_DESCRIPTION']=='property found', 'COST'] = 0\n",
    "new_df.ix[new_df['INCIDENT_TYPE_DESCRIPTION']=='death investigation', 'COST'] = 0\n",
    "new_df.ix[new_df['INCIDENT_TYPE_DESCRIPTION']=='gather', 'COST'] = 0\n",
    "new_df.ix[new_df['INCIDENT_TYPE_DESCRIPTION']=='burgtools', 'COST'] = 0\n",
    "new_df.ix[new_df['INCIDENT_TYPE_DESCRIPTION']=='prison', 'COST'] = 0\n",
    "new_df.ix[new_df['INCIDENT_TYPE_DESCRIPTION']=='runaway', 'COST'] = 0\n",
    "new_df.ix[new_df['INCIDENT_TYPE_DESCRIPTION']=='persmiss', 'COST'] = 0\n",
    "\n",
    "\n",
    "\n",
    "#new_df[new_df['INCIDENT_TYPE_DESCRIPTION']=='persmiss']\n",
    "\n",
    "#new_df[new_df['COST']=='NaN']\n",
    "# grouped.head()\n",
    "\n",
    "# #new_df[new_df['COST']=='NaN'].sort(['INCIDENT_TYPE_DESCRIPTION'])\n",
    "#new_df[new_df['COST']=='NaN']['INCIDENT_TYPE_DESCRIPTION'].value_counts()\n",
    "\n",
    "new_df['COST'].value_counts()\n",
    "\n",
    "#     #print elm\n",
    "# #new_df['COST'] = 10"
   ]
  },
  {
   "cell_type": "markdown",
   "metadata": {},
   "source": [
    "Now save the dataframe to a csv file. "
   ]
  },
  {
   "cell_type": "code",
   "execution_count": 92,
   "metadata": {
    "collapsed": true
   },
   "outputs": [],
   "source": [
    "# new_df.to_csv(\"crime_costs.csv\", index=False)"
   ]
  },
  {
   "cell_type": "markdown",
   "metadata": {},
   "source": [
    "##Property Value Dataset "
   ]
  },
  {
   "cell_type": "markdown",
   "metadata": {},
   "source": [
    "Next we read in and clean a dataset of property values from the Boston open data portal:"
   ]
  },
  {
   "cell_type": "code",
   "execution_count": 96,
   "metadata": {
    "collapsed": false
   },
   "outputs": [
    {
     "name": "stderr",
     "output_type": "stream",
     "text": [
      "/Users/anthonywohns/anaconda/lib/python2.7/site-packages/pandas/io/parsers.py:1170: DtypeWarning: Columns (6,14) have mixed types. Specify dtype option on import or set low_memory=False.\n",
      "  data = self._reader.read(nrows)\n"
     ]
    }
   ],
   "source": [
    "propertyvalues=pd.read_csv(\"wilder_tempdata/Property_Assessment_2014.csv\")"
   ]
  },
  {
   "cell_type": "code",
   "execution_count": 109,
   "metadata": {
    "collapsed": false
   },
   "outputs": [
    {
     "data": {
      "text/plain": [
       "123140                              C,3\n",
       "137133                              C,0\n",
       "149324                  0,(42.360441000\n",
       "137134                  0,(42.359400000\n",
       "137121                  0,(42.359400000\n",
       "137199                   ,(42.359400000\n",
       "93795                    ,(42.333860000\n",
       "50150                    ,(42.280202000\n",
       "162345    (42.394968000, -71.011287000)\n",
       "153183    (42.394581000, -71.067571000)\n",
       "Name: Location, dtype: object"
      ]
     },
     "execution_count": 109,
     "metadata": {},
     "output_type": "execute_result"
    }
   ],
   "source": [
    "propertyvalues['Location'].order(ascending=False).head(10)"
   ]
  },
  {
   "cell_type": "markdown",
   "metadata": {},
   "source": [
    "The data is already in an acceptable format (and there are only 8 values without a geotag), so all we have to do is create separate columns for the latitude and longitude."
   ]
  },
  {
   "cell_type": "code",
   "execution_count": 110,
   "metadata": {
    "collapsed": false
   },
   "outputs": [],
   "source": [
    "def splitter_lat(x):\n",
    "    lat, lon = x.split(',')\n",
    "    try:\n",
    "        float(lat[1:])\n",
    "        return float(lat[1:])\n",
    "    except ValueError:\n",
    "        return 0\n",
    "\n",
    "def splitter_lon(x):\n",
    "    lat, lon = x.split(',')\n",
    "    try:\n",
    "        float(lon[:-1])\n",
    "        return float(lon[:-1])\n",
    "    except ValueError:\n",
    "        return 0\n",
    "\n",
    "propertyvalues['Lat'] = propertyvalues['Location'].apply(splitter_lat)\n",
    "\n",
    "propertyvalues['Lon'] = propertyvalues['Location'].apply(splitter_lon)"
   ]
  },
  {
   "cell_type": "code",
   "execution_count": 111,
   "metadata": {
    "collapsed": true
   },
   "outputs": [],
   "source": [
    "#propertyvalues.to_csv(\"propertyvalues.csv\")"
   ]
  },
  {
   "cell_type": "markdown",
   "metadata": {},
   "source": [
    "## Liquor License Data"
   ]
  },
  {
   "cell_type": "code",
   "execution_count": 113,
   "metadata": {
    "collapsed": false
   },
   "outputs": [],
   "source": [
    "liquordata=pd.read_csv(\"wilder_tempdata/Liquor_Licenses.csv\")"
   ]
  },
  {
   "cell_type": "markdown",
   "metadata": {},
   "source": [
    "## Street Light Location Data"
   ]
  },
  {
   "cell_type": "code",
   "execution_count": 2,
   "metadata": {
    "collapsed": true
   },
   "outputs": [],
   "source": []
  },
  {
   "cell_type": "markdown",
   "metadata": {},
   "source": [
    "### Loading Crime Data CSV and Creating Dictionary ###"
   ]
  },
  {
   "cell_type": "markdown",
   "metadata": {},
   "source": [
    "We first open our cleaned csv file containing a list of all reported criminal incidents in Boston from 2012 to 2015. Crimes within this dataset were tagged with a specific crime type such as \"Armed Robbery.\" We used these taggings along with Boston Police Department's severity scores for the corresponding crimes to create a dictionary keyed by the location (latitude and longitude) of a crime and having the severity score of the crime. We called this dictionary crimeDict and use it heavily throughout the rest of our project. We decided to use two decimal places for our latitude and longitude in the static model, as this provided 176 different locations (each close to one square kilometer in area). We were fortunate to have static datasets that had very specific latitudes and longitudes so we could have more locations. Our dynamic datasets required us to only use one decimal places for our locations in the dynamic model."
   ]
  },
  {
   "cell_type": "code",
   "execution_count": 4,
   "metadata": {
    "collapsed": false
   },
   "outputs": [],
   "source": [
    "with open('crime_data_weighted_cleaned_nov_27.csv', 'rU') as csvfile:\n",
    "    reader = csv.DictReader(csvfile)\n",
    "    crimeDict = {}\n",
    "    for row in reader:\n",
    "        # Read in sufficient characters for two decimal places of specificity\n",
    "        key = ((float(row['LATITUDE'][:5]), float(row['LONGITUDE'][:6])))\n",
    "        if key in crimeDict:\n",
    "            # If the score is unavailable, we record it as a 1. If it is, we record the score\n",
    "            if np.isnan(float(row['SCORE'])):\n",
    "                crimeDict[key].extend([int(1)])\n",
    "            else:\n",
    "                crimeDict[key].extend([int(row['SCORE'])])\n",
    "        else:\n",
    "            if np.isnan(float(row['SCORE'])):\n",
    "                crimeDict[key]= [int(1)]\n",
    "            else:\n",
    "                crimeDict[key] = [int(row['SCORE'])]"
   ]
  },
  {
   "cell_type": "markdown",
   "metadata": {},
   "source": [
    "Before beginning our project, we wanted to have a sense of the distribution of crime in Boston. We recognized that this would perhaps most easily be conveyed with a heatmap. Below is a screenshot of the google map heatmap we created of the crime data. Because we were required to work within the ipython notebook, we created code (shown below map) that would create a string representing the data we wanted to visualize and inject this string within another string representing an html page template. We determined that a dataframe would be easier to use for this visualization and we elected to use all decimal places available to more accurately represent the data. This method of visualization proved to be very convenient in that it allowed us to easily import our heatmap into our webpage. The primary downside of the method was that all of our data existed as a large string within the html file, causing the filesize to be very large."
   ]
  },
  {
   "cell_type": "markdown",
   "metadata": {},
   "source": [
    "<img src=\"bostoncrimeheatmap.png\">"
   ]
  },
  {
   "cell_type": "code",
   "execution_count": 175,
   "metadata": {
    "collapsed": true
   },
   "outputs": [],
   "source": [
    "crimedf=pd.read_csv('crime_data_weighted_cleaned_nov_27.csv')"
   ]
  },
  {
   "cell_type": "code",
   "execution_count": 33,
   "metadata": {
    "collapsed": true
   },
   "outputs": [],
   "source": [
    "# Here we create a function that takes in a given lat, long and returns a string that works with google's api to add data to the\n",
    "# heat map\n",
    "def addCoordshm(lat, lon):\n",
    "    txtstr =  \"var LatLng = new google.maps.LatLng(\"\n",
    "    txtstr2 = \"); \\\n",
    "                heatmapData.push(LatLng);\"\n",
    "    hm_str = txtstr + str(lat) + ',' + str(lon) + txtstr2\n",
    "    return hm_str"
   ]
  },
  {
   "cell_type": "code",
   "execution_count": 177,
   "metadata": {
    "collapsed": true
   },
   "outputs": [],
   "source": [
    "# We initialize a list to store our large string, and then loop through our dataframe rows, adding the above string to our big string\n",
    "bigstringcrime = []\n",
    "space = \"\\n\"\n",
    "for i in range(0, len(crimedf['LATITUDE'])):\n",
    "    bigstringcrime.append(addCoordshm(crimedf['LATITUDE'][i], crimedf['LONGITUDE'][i]))"
   ]
  },
  {
   "cell_type": "code",
   "execution_count": 178,
   "metadata": {
    "collapsed": true
   },
   "outputs": [],
   "source": [
    "# We join the individual appended strings together as one large string and add newline characters between each for formatting\n",
    "bigstringinputc = space.join(bigstringcrime)"
   ]
  },
  {
   "cell_type": "code",
   "execution_count": 179,
   "metadata": {
    "collapsed": true
   },
   "outputs": [],
   "source": [
    "# Below is the page template for an html visualization of the heatmap. We copy only the middle portion for insertion into our website\n",
    "def get_page_template(x):\n",
    "    page_template_1 = \"\"\"\n",
    "    <html>\n",
    "      <head>\n",
    "        <meta charset=\"utf-8\">\n",
    "            <meta http-equiv=\"X-UA-Compatible\" content=\"IE=edge\">\n",
    "            <title></title>\n",
    "            <meta name=\"description\" content=\"\">\n",
    "            <meta name=\"viewport\" content=\"width=device-width, initial-scale=1\">\n",
    "\n",
    "            <style>\n",
    "                html, body, #map-canvas {margin: 0;padding: 0;height: 100%;}\n",
    "            </style>\n",
    "        <script src=\"https://maps.googleapis.com/maps/api/js?v=3.exp&sensor=false&libraries=geometry,visualization\"></script>\n",
    "        <script>\n",
    "          var geocoder;\n",
    "          var map;\n",
    "          function initialize() \n",
    "          {\n",
    "            geocoder = new google.maps.Geocoder();        \n",
    "            geocoder.geocode( { 'address': \"Boston\"}, function(results, status) \n",
    "            {\n",
    "              if (status == google.maps.GeocoderStatus.OK) \n",
    "              {\n",
    "                var mapOptions = {\n",
    "                  zoom: 13,\n",
    "                  center: results[0].geometry.location,\n",
    "                  mapTypeId: google.maps.MapTypeId.ROADMAP\n",
    "                }\n",
    "\n",
    "                // Let's draw the map\n",
    "                map = new google.maps.Map(document.getElementById(\"map-canvas\"), mapOptions);\n",
    "                var heatmapData = [];\n",
    "                \"\"\"\n",
    "            \n",
    "    page_template_2 = \"\"\" \n",
    "                var heatmap = new google.maps.visualization.HeatmapLayer({\n",
    "                  data: heatmapData,\n",
    "                  map: map,\n",
    "                  radius: 25\n",
    "                });\n",
    "                heatmap.setMap(map);\n",
    "              }\n",
    "\n",
    "              else \n",
    "              {\n",
    "                alert(\"Geocode was not successful for the following reason: \" + status);\n",
    "              }\n",
    "            });\n",
    "          }\n",
    "\n",
    "        initialize();\n",
    "        </script>\n",
    "      </head>\n",
    "    <center>\n",
    "    <H1 style=\"margin-top: 25px;\">Crime in Boston</H1>\n",
    "    <body onload=\"\">\n",
    "    <div id=\"map-canvas\" style=\"width: 1200px; height: 800px;\"></div>\n",
    "    </body>\n",
    "    </center>\n",
    "    </html>\n",
    "    \"\"\"\n",
    "    return page_template_1 + x + page_template_2\n",
    "def main():\n",
    "    with open(r'C:\\Users\\Carl\\Desktop\\CS109 Final Project\\crimeheatmap.html', 'w') as out:\n",
    "        out.write(get_page_template(bigstringinputc))"
   ]
  },
  {
   "cell_type": "code",
   "execution_count": 180,
   "metadata": {
    "collapsed": true
   },
   "outputs": [],
   "source": [
    "main()"
   ]
  },
  {
   "cell_type": "markdown",
   "metadata": {},
   "source": [
    "### Creating Danger Dictionary ###"
   ]
  },
  {
   "cell_type": "markdown",
   "metadata": {},
   "source": [
    "From our crime dictionary, we create a danger dictionary which essentially gauges how dangerous a given area is. To calculate this danger score for each area, we add up the severity scores for all of the crimes in the respective area. Then we sought to squash these aggregated scores and assign areas relative danger scores between a range of 1 to 10 inclusive. This proved to be difficult, as there were several very large and very small outliers. We decided to calculate the relative percentile and then divide by ten to obtain a danger score. Although this ends up scaling up some less dangerous areas, we thought that this method was reasonable."
   ]
  },
  {
   "cell_type": "code",
   "execution_count": 5,
   "metadata": {
    "collapsed": false
   },
   "outputs": [],
   "source": [
    "from scipy import stats\n",
    "dangerDict = {}\n",
    "dangerDict_scaled = {}\n",
    "for key in crimeDict:\n",
    "    dangerDict[key] = sum(crimeDict[key])\n",
    "for key in dangerDict:\n",
    "    dangerDict_scaled[key] = stats.percentileofscore(dangerDict.values(), dangerDict[key], 'rank') / 10"
   ]
  },
  {
   "cell_type": "markdown",
   "metadata": {},
   "source": [
    "Here we save our danger dictionary as a pickle file to be used in the static model."
   ]
  },
  {
   "cell_type": "code",
   "execution_count": 6,
   "metadata": {
    "collapsed": true
   },
   "outputs": [],
   "source": [
    "dangerDict_uPickle = open('dangerDict_u.pkl', 'wb')\n",
    "pickle.dump(dangerDict, dangerDict_uPickle, -1)\n",
    "dangerDict_uPickle.close()"
   ]
  },
  {
   "cell_type": "code",
   "execution_count": 7,
   "metadata": {
    "collapsed": false
   },
   "outputs": [
    {
     "data": {
      "text/plain": [
       "{(42.23, -71.13): 3.5227272727272725,\n",
       " (42.23, -71.12): 2.6704545454545454,\n",
       " (42.24, -71.14): 1.9034090909090911,\n",
       " (42.24, -71.13): 5.1136363636363633,\n",
       " (42.24, -71.12): 4.4318181818181817,\n",
       " (42.24, -71.11): 3.8636363636363633,\n",
       " (42.25, -71.16): 2.3863636363636362,\n",
       " (42.25, -71.15): 2.8977272727272729,\n",
       " (42.25, -71.14): 4.7727272727272725,\n",
       " (42.25, -71.13): 3.75,\n",
       " (42.25, -71.12): 7.8977272727272734,\n",
       " (42.25, -71.11): 5.3977272727272725,\n",
       " (42.25, -71.1): 0.14204545454545453,\n",
       " (42.26, -71.17): 2.3011363636363638,\n",
       " (42.26, -71.16): 3.4090909090909087,\n",
       " (42.26, -71.15): 5.0568181818181817,\n",
       " (42.26, -71.14): 2.6136363636363638,\n",
       " (42.26, -71.13): 0.79545454545454541,\n",
       " (42.26, -71.12): 5.6818181818181817,\n",
       " (42.26, -71.11): 5.9090909090909092,\n",
       " (42.26, -71.1): 6.3636363636363633,\n",
       " (42.26, -71.09): 7.1022727272727266,\n",
       " (42.26, -71.08): 1.0227272727272729,\n",
       " (42.27, -71.17): 3.8068181818181821,\n",
       " (42.27, -71.16): 4.204545454545455,\n",
       " (42.27, -71.15): 2.0454545454545459,\n",
       " (42.27, -71.14): 3.6931818181818179,\n",
       " (42.27, -71.13): 6.1931818181818183,\n",
       " (42.27, -71.12): 4.8863636363636367,\n",
       " (42.27, -71.11): 6.0795454545454541,\n",
       " (42.27, -71.1): 5.3409090909090908,\n",
       " (42.27, -71.09): 7.5,\n",
       " (42.27, -71.08): 6.5909090909090908,\n",
       " (42.27, -71.07): 6.1363636363636367,\n",
       " (42.27, -71.06): 6.420454545454545,\n",
       " (42.27, -71.05): 1.6477272727272727,\n",
       " (42.28, -71.17): 1.4772727272727273,\n",
       " (42.28, -71.16): 3.4659090909090913,\n",
       " (42.28, -71.15): 5.0,\n",
       " (42.28, -71.14): 6.0227272727272725,\n",
       " (42.28, -71.13): 6.25,\n",
       " (42.28, -71.12): 7.045454545454545,\n",
       " (42.28, -71.11): 5.9659090909090908,\n",
       " (42.28, -71.1): 2.8409090909090908,\n",
       " (42.28, -71.09): 8.8068181818181834,\n",
       " (42.28, -71.08): 8.4090909090909101,\n",
       " (42.28, -71.07): 8.0681818181818166,\n",
       " (42.28, -71.06): 7.8409090909090908,\n",
       " (42.28, -71.05): 6.704545454545455,\n",
       " (42.28, -71.04): 5.4829545454545459,\n",
       " (42.28, -71.03): 0.56818181818181812,\n",
       " (42.29, -71.17): 0.45454545454545459,\n",
       " (42.29, -71.16): 2.4431818181818183,\n",
       " (42.29, -71.15): 3.6363636363636367,\n",
       " (42.29, -71.14): 2.5568181818181817,\n",
       " (42.29, -71.13): 3.5795454545454546,\n",
       " (42.29, -71.12): 5.1704545454545459,\n",
       " (42.29, -71.11): 6.3068181818181817,\n",
       " (42.29, -71.1): 0.71022727272727271,\n",
       " (42.29, -71.09): 4.375,\n",
       " (42.29, -71.08): 8.6363636363636367,\n",
       " (42.29, -71.07): 9.204545454545455,\n",
       " (42.29, -71.06): 9.0340909090909101,\n",
       " (42.29, -71.05): 8.0113636363636367,\n",
       " (42.29, -71.04): 5.625,\n",
       " (42.29, -71.03): 0.51136363636363646,\n",
       " (42.3, -71.16): 1.3068181818181819,\n",
       " (42.3, -71.14): 0.28409090909090906,\n",
       " (42.3, -71.13): 1.8181818181818183,\n",
       " (42.3, -71.12): 3.2386363636363633,\n",
       " (42.3, -71.11): 6.9318181818181825,\n",
       " (42.3, -71.1): 6.875,\n",
       " (42.3, -71.09): 2.7840909090909092,\n",
       " (42.3, -71.08): 9.4318181818181834,\n",
       " (42.3, -71.07): 9.1477272727272734,\n",
       " (42.3, -71.06): 9.545454545454545,\n",
       " (42.3, -71.05): 7.6136363636363642,\n",
       " (42.3, -71.04): 1.7045454545454544,\n",
       " (42.31, -71.13): 0.39772727272727271,\n",
       " (42.31, -71.12): 2.2159090909090908,\n",
       " (42.31, -71.11): 6.9886363636363642,\n",
       " (42.31, -71.1): 7.5568181818181825,\n",
       " (42.31, -71.09): 8.9772727272727266,\n",
       " (42.31, -71.08): 8.6931818181818166,\n",
       " (42.31, -71.07): 9.375,\n",
       " (42.31, -71.06): 9.6022727272727266,\n",
       " (42.31, -71.05): 8.125,\n",
       " (42.31, -71.04): 5.2840909090909092,\n",
       " (42.31, -71.03): 1.5340909090909092,\n",
       " (42.31, -70.97): 2.1590909090909092,\n",
       " (42.32, -71.12): 0.96590909090909083,\n",
       " (42.32, -71.11): 4.6590909090909083,\n",
       " (42.32, -71.1): 8.3522727272727266,\n",
       " (42.32, -71.09): 7.7840909090909092,\n",
       " (42.32, -71.08): 9.7727272727272734,\n",
       " (42.32, -71.07): 8.8636363636363633,\n",
       " (42.32, -71.06): 8.295454545454545,\n",
       " (42.32, -71.05): 8.1818181818181834,\n",
       " (42.32, -71.04): 2.5,\n",
       " (42.32, -71.03): 1.4204545454545454,\n",
       " (42.32, -70.96): 0.14204545454545453,\n",
       " (42.33, -71.16): 1.3636363636363635,\n",
       " (42.33, -71.15): 5.2272727272727275,\n",
       " (42.33, -71.14): 3.3522727272727275,\n",
       " (42.33, -71.11): 3.9772727272727275,\n",
       " (42.33, -71.1): 8.4659090909090899,\n",
       " (42.33, -71.09): 8.579545454545455,\n",
       " (42.33, -71.08): 9.3181818181818166,\n",
       " (42.33, -71.07): 9.8863636363636367,\n",
       " (42.33, -71.06): 6.5340909090909092,\n",
       " (42.33, -71.05): 8.2386363636363633,\n",
       " (42.33, -71.04): 7.954545454545455,\n",
       " (42.33, -71.03): 7.2727272727272734,\n",
       " (42.33, -71.02): 4.1193181818181817,\n",
       " (42.34, -71.17): 0.71022727272727271,\n",
       " (42.34, -71.16): 4.9431818181818183,\n",
       " (42.34, -71.15): 7.2159090909090908,\n",
       " (42.34, -71.14): 7.7272727272727266,\n",
       " (42.34, -71.13): 7.1590909090909092,\n",
       " (42.34, -71.12): 0.625,\n",
       " (42.34, -71.1): 6.7613636363636358,\n",
       " (42.34, -71.09): 9.0909090909090899,\n",
       " (42.34, -71.08): 9.9431818181818166,\n",
       " (42.34, -71.07): 9.7159090909090899,\n",
       " (42.34, -71.06): 8.920454545454545,\n",
       " (42.34, -71.05): 7.4431818181818175,\n",
       " (42.34, -71.04): 4.3181818181818183,\n",
       " (42.34, -71.03): 3.1818181818181817,\n",
       " (42.34, -71.02): 1.1931818181818181,\n",
       " (42.35, -71.17): 3.0681818181818183,\n",
       " (42.35, -71.16): 5.5681818181818183,\n",
       " (42.35, -71.15): 5.8522727272727275,\n",
       " (42.35, -71.14): 6.4772727272727266,\n",
       " (42.35, -71.13): 8.5227272727272734,\n",
       " (42.35, -71.12): 7.670454545454545,\n",
       " (42.35, -71.11): 3.125,\n",
       " (42.35, -71.1): 1.25,\n",
       " (42.35, -71.09): 2.7272727272727271,\n",
       " (42.35, -71.08): 5.7954545454545459,\n",
       " (42.35, -71.07): 9.4886363636363633,\n",
       " (42.35, -71.06): 10.0,\n",
       " (42.35, -71.05): 9.829545454545455,\n",
       " (42.35, -71.04): 4.0340909090909083,\n",
       " (42.35, -71.03): 0.34090909090909088,\n",
       " (42.35, -71.01): 0.14204545454545453,\n",
       " (42.36, -71.14): 2.9545454545454546,\n",
       " (42.36, -71.13): 4.1193181818181817,\n",
       " (42.36, -71.12): 2.3011363636363638,\n",
       " (42.36, -71.11): 0.90909090909090917,\n",
       " (42.36, -71.07): 3.0113636363636362,\n",
       " (42.36, -71.06): 8.75,\n",
       " (42.36, -71.05): 9.2613636363636367,\n",
       " (42.36, -71.04): 3.9204545454545454,\n",
       " (42.36, -71.03): 6.8181818181818175,\n",
       " (42.36, -71.02): 1.5909090909090908,\n",
       " (42.37, -71.07): 1.1363636363636362,\n",
       " (42.37, -71.06): 7.3863636363636358,\n",
       " (42.37, -71.05): 7.329545454545455,\n",
       " (42.37, -71.04): 4.4886363636363633,\n",
       " (42.37, -71.03): 9.6590909090909101,\n",
       " (42.37, -71.02): 4.7159090909090917,\n",
       " (42.38, -71.08): 1.7613636363636362,\n",
       " (42.38, -71.07): 4.545454545454545,\n",
       " (42.38, -71.06): 4.6022727272727275,\n",
       " (42.38, -71.05): 2.1022727272727275,\n",
       " (42.38, -71.04): 3.2954545454545454,\n",
       " (42.38, -71.03): 6.6477272727272734,\n",
       " (42.38, -71.02): 4.829545454545455,\n",
       " (42.38, -71.01): 5.4829545454545459,\n",
       " (42.38, -71.0): 5.7386363636363633,\n",
       " (42.38, -70.99): 1.9886363636363638,\n",
       " (42.39, -71.07): 0.14204545454545453,\n",
       " (42.39, -71.06): 1.0795454545454546,\n",
       " (42.39, -71.01): 1.9034090909090911,\n",
       " (42.39, -71.0): 4.2613636363636367,\n",
       " (42.39, -70.99): 0.85227272727272718}"
      ]
     },
     "execution_count": 7,
     "metadata": {},
     "output_type": "execute_result"
    }
   ],
   "source": [
    "dangerDict_scaled"
   ]
  },
  {
   "cell_type": "markdown",
   "metadata": {},
   "source": [
    "Here we save our scaled danger dictionary (by percentiles) to be used in the static model."
   ]
  },
  {
   "cell_type": "code",
   "execution_count": 8,
   "metadata": {
    "collapsed": false
   },
   "outputs": [],
   "source": [
    "dangerDictPickle = open('dangerDict.pkl', 'wb')\n",
    "pickle.dump(dangerDict_scaled, dangerDictPickle, -1)\n",
    "dangerDictPickle.close()"
   ]
  },
  {
   "cell_type": "code",
   "execution_count": 9,
   "metadata": {
    "collapsed": false
   },
   "outputs": [
    {
     "name": "stdout",
     "output_type": "stream",
     "text": [
      "(1, 31530)\n"
     ]
    }
   ],
   "source": [
    "print(min(dangerDict.values()),\n",
    "max(dangerDict.values()))"
   ]
  },
  {
   "cell_type": "markdown",
   "metadata": {},
   "source": [
    "We also thought it might be interesting to look at the frequency of crimes in each region, so we created a frequency dictionary and stored it as a pickle file for use in our model."
   ]
  },
  {
   "cell_type": "code",
   "execution_count": 10,
   "metadata": {
    "collapsed": false
   },
   "outputs": [],
   "source": [
    "freqDict = {}\n",
    "for key in crimeDict:\n",
    "    freqDict[key] = len(crimeDict[key])"
   ]
  },
  {
   "cell_type": "code",
   "execution_count": 11,
   "metadata": {
    "collapsed": true
   },
   "outputs": [],
   "source": [
    "freqDictPickle = open('freqDict.pkl', 'wb')\n",
    "pickle.dump(freqDict, freqDictPickle, -1)\n",
    "freqDictPickle.close()"
   ]
  },
  {
   "cell_type": "markdown",
   "metadata": {},
   "source": [
    "### Loading Static Variables and Creating Feature Dictionary ###"
   ]
  },
  {
   "cell_type": "markdown",
   "metadata": {},
   "source": [
    "Now we look at our first static variable, property data. We begin a feature dictionary that will be keyed by our lat, longs from above and have data for all of our static features. For property values we look at a given location and average all of the property values within that area."
   ]
  },
  {
   "cell_type": "code",
   "execution_count": 22,
   "metadata": {
    "collapsed": false
   },
   "outputs": [],
   "source": [
    "with open('propertyvalues.csv', 'rU') as csvfile:\n",
    "    reader = csv.DictReader(csvfile)\n",
    "    featureDict = {}\n",
    "    for row in reader:\n",
    "        key = ((float(row['Lat'][:5]), float(row['Lon'][:6])))\n",
    "        if key in crimeDict:\n",
    "            if key in featureDict:\n",
    "                featureDict[key].extend([int(row['AV_TOTAL'])])\n",
    "            else:\n",
    "                featureDict[key] = [int(row['AV_TOTAL'])]\n",
    "        else:\n",
    "            pass"
   ]
  },
  {
   "cell_type": "code",
   "execution_count": 23,
   "metadata": {
    "collapsed": false
   },
   "outputs": [],
   "source": [
    "for key in featureDict:\n",
    "    featureDict[key] = [np.mean(featureDict[key])]"
   ]
  },
  {
   "cell_type": "markdown",
   "metadata": {},
   "source": [
    "Similarly, we read in our liquor data which contains the geographic location of all liquor stores in Boston. We are interested in how the distribution of these stores around the city may impact crime"
   ]
  },
  {
   "cell_type": "code",
   "execution_count": 24,
   "metadata": {
    "collapsed": false
   },
   "outputs": [],
   "source": [
    "# Count the number of liquor stores in each area and append to the list containing property value\n",
    "with open('liquor_data_cleaned.csv', 'rU') as csvfile:\n",
    "    readertwo = csv.DictReader(csvfile)\n",
    "    for row in readertwo:\n",
    "        key = ((float(row['Lat'][:5]), float(row['Lng'][:6])))\n",
    "        if key in featureDict:\n",
    "            if len(featureDict[key]) == 1:\n",
    "                featureDict[key].append(1)\n",
    "            else:\n",
    "                featureDict[key][1] += 1"
   ]
  },
  {
   "cell_type": "code",
   "execution_count": 25,
   "metadata": {
    "collapsed": true
   },
   "outputs": [],
   "source": [
    "# If there's no liquor store in a given area, record 0\n",
    "for key in featureDict:\n",
    "    if len(featureDict[key]) ==1:\n",
    "        featureDict[key].append(0)"
   ]
  },
  {
   "cell_type": "code",
   "execution_count": 26,
   "metadata": {
    "collapsed": false
   },
   "outputs": [
    {
     "data": {
      "text/plain": [
       "{(42.23, -71.13): [405563.7603550296, 0],\n",
       " (42.23, -71.12): [477299.9418604651, 0],\n",
       " (42.24, -71.14): [307264.03555555554, 0],\n",
       " (42.24, -71.13): [345830.53454545455, 0],\n",
       " (42.24, -71.12): [279372.65255474451, 0],\n",
       " (42.24, -71.11): [373794.67924528301, 0],\n",
       " (42.25, -71.16): [286272.70270270272, 0],\n",
       " (42.25, -71.15): [407718.27868852462, 0],\n",
       " (42.25, -71.14): [390782.06804733729, 0],\n",
       " (42.25, -71.13): [489025.94218415418, 0],\n",
       " (42.25, -71.12): [383927.79764453962, 1],\n",
       " (42.25, -71.11): [334080.7107329843, 0],\n",
       " (42.25, -71.1): [247540.95454545456, 0],\n",
       " (42.26, -71.17): [646297.82608695654, 0],\n",
       " (42.26, -71.16): [212598.47085610201, 0],\n",
       " (42.26, -71.15): [239361.60463045415, 0],\n",
       " (42.26, -71.14): [337458.85416666669, 0],\n",
       " (42.26, -71.13): [629250.42735042737, 0],\n",
       " (42.26, -71.12): [264007.97101449274, 0],\n",
       " (42.26, -71.11): [314186.5847715736, 0],\n",
       " (42.26, -71.1): [245245.2150627615, 0],\n",
       " (42.26, -71.09): [334294.23060344829, 1],\n",
       " (42.26, -71.08): [282281.81818181818, 0],\n",
       " (42.27, -71.17): [1142571.2513089005, 0],\n",
       " (42.27, -71.16): [348398.82976903336, 0],\n",
       " (42.27, -71.15): [525389.55419580417, 0],\n",
       " (42.27, -71.14): [466909.07387862797, 0],\n",
       " (42.27, -71.13): [346659.11639549438, 1],\n",
       " (42.27, -71.12): [291768.63710407238, 0],\n",
       " (42.27, -71.11): [248440.10767468499, 0],\n",
       " (42.27, -71.1): [223763.56621004565, 0],\n",
       " (42.27, -71.09): [292715.98609823908, 0],\n",
       " (42.27, -71.08): [368957.23910171731, 0],\n",
       " (42.27, -71.07): [314857.70627376426, 0],\n",
       " (42.27, -71.06): [418623.34260429838, 2],\n",
       " (42.27, -71.05): [346383.46456692915, 0],\n",
       " (42.28, -71.17): [811457.66871165647, 0],\n",
       " (42.28, -71.16): [369851.34853168472, 0],\n",
       " (42.28, -71.15): [515769.93259557342, 2],\n",
       " (42.28, -71.14): [379267.42709163349, 1],\n",
       " (42.28, -71.13): [324902.68249837344, 1],\n",
       " (42.28, -71.12): [331285.71409121854, 2],\n",
       " (42.28, -71.11): [300954.23657024791, 0],\n",
       " (42.28, -71.1): [1649434.1517857143, 0],\n",
       " (42.28, -71.09): [283693.73360242182, 0],\n",
       " (42.28, -71.08): [253599.38753213367, 0],\n",
       " (42.28, -71.07): [296344.17297698592, 0],\n",
       " (42.28, -71.06): [338389.15943962644, 0],\n",
       " (42.28, -71.05): [305661.74461376772, 2],\n",
       " (42.28, -71.04): [355416.25316455698, 0],\n",
       " (42.28, -71.03): [484290.90909090912, 0],\n",
       " (42.29, -71.17): [506951.19047619047, 0],\n",
       " (42.29, -71.16): [365585.74702886248, 0],\n",
       " (42.29, -71.15): [482454.55035460991, 0],\n",
       " (42.29, -71.14): [426765.15657894738, 0],\n",
       " (42.29, -71.13): [496603.64640198508, 0],\n",
       " (42.29, -71.12): [344530.40950226242, 0],\n",
       " (42.29, -71.11): [350181.90046082949, 1],\n",
       " (42.29, -71.1): [7789501.8965517245, 0],\n",
       " (42.29, -71.09): [442925.53521126759, 0],\n",
       " (42.29, -71.08): [412670.46450809465, 1],\n",
       " (42.29, -71.07): [311141.99251191289, 0],\n",
       " (42.29, -71.06): [317634.85266666667, 0],\n",
       " (42.29, -71.05): [289712.85933806148, 1],\n",
       " (42.29, -71.04): [665448.39799331105, 0],\n",
       " (42.29, -71.03): [411213.57142857142, 0],\n",
       " (42.3, -71.16): [183764.609375, 0],\n",
       " (42.3, -71.14): [179119.23076923078, 0],\n",
       " (42.3, -71.13): [880502.75502008037, 0],\n",
       " (42.3, -71.12): [1108253.5633802817, 0],\n",
       " (42.3, -71.11): [475340.99486850546, 0],\n",
       " (42.3, -71.1): [349560.76292682928, 0],\n",
       " (42.3, -71.09): [7250818.692307692, 0],\n",
       " (42.3, -71.08): [455489.00123304559, 0],\n",
       " (42.3, -71.07): [309239.24437299033, 0],\n",
       " (42.3, -71.06): [283590.65950226242, 0],\n",
       " (42.3, -71.05): [360568.56218905473, 1],\n",
       " (42.3, -71.04): [775634.93975903618, 0],\n",
       " (42.31, -71.13): [734474.07894736843, 0],\n",
       " (42.31, -71.12): [663219.68595041323, 0],\n",
       " (42.31, -71.11): [512528.95049504953, 3],\n",
       " (42.31, -71.1): [351289.27794411179, 0],\n",
       " (42.31, -71.09): [406045.50470809796, 0],\n",
       " (42.31, -71.08): [330025.30291109363, 0],\n",
       " (42.31, -71.07): [257431.30236907731, 1],\n",
       " (42.31, -71.06): [309034.39623685664, 1],\n",
       " (42.31, -71.05): [310524.21342078707, 3],\n",
       " (42.31, -71.04): [2089334.5705882353, 0],\n",
       " (42.31, -71.03): [84501800.0, 0],\n",
       " (42.32, -71.12): [463441.65243902442, 0],\n",
       " (42.32, -71.11): [909482.31455399061, 1],\n",
       " (42.32, -71.1): [537651.695416164, 2],\n",
       " (42.32, -71.09): [313746.65997229918, 0],\n",
       " (42.32, -71.08): [358583.33213965979, 0],\n",
       " (42.32, -71.07): [268912.65149544866, 0],\n",
       " (42.32, -71.06): [577237.64877300616, 2],\n",
       " (42.32, -71.05): [486525.19285042334, 0],\n",
       " (42.32, -71.04): [11715736.0, 0],\n",
       " (42.32, -71.03): [937392.15789473685, 0],\n",
       " (42.33, -71.16): [23004990.90909091, 0],\n",
       " (42.33, -71.15): [426714.79237288138, 0],\n",
       " (42.33, -71.14): [428906.33333333331, 1],\n",
       " (42.33, -71.11): [566243.59539473685, 1],\n",
       " (42.33, -71.1): [5935821.8355184747, 3],\n",
       " (42.33, -71.09): [3810471.206235012, 1],\n",
       " (42.33, -71.08): [1720494.1122807018, 2],\n",
       " (42.33, -71.07): [1211383.8359173127, 2],\n",
       " (42.33, -71.06): [2634699.5662251655, 0],\n",
       " (42.33, -71.05): [434305.07398212515, 1],\n",
       " (42.33, -71.04): [385197.28334691661, 4],\n",
       " (42.33, -71.03): [447056.12103951583, 3],\n",
       " (42.33, -71.02): [486586.95609318995, 0],\n",
       " (42.34, -71.17): [363049.6612244898, 0],\n",
       " (42.34, -71.16): [562851.89830508479, 0],\n",
       " (42.34, -71.15): [582233.52822580643, 1],\n",
       " (42.34, -71.14): [538502.23401587969, 1],\n",
       " (42.34, -71.13): [436061.983663944, 2],\n",
       " (42.34, -71.12): [1655500.0, 1],\n",
       " (42.34, -71.1): [2613403.6286764704, 2],\n",
       " (42.34, -71.09): [957405.04463913222, 11],\n",
       " (42.34, -71.08): [1548565.1331460674, 26],\n",
       " (42.34, -71.07): [1394395.9089586365, 17],\n",
       " (42.34, -71.06): [955110.57884706999, 8],\n",
       " (42.34, -71.05): [1055805.5789962825, 6],\n",
       " (42.34, -71.04): [4359739.205128205, 3],\n",
       " (42.34, -71.03): [4750474.6753246756, 2],\n",
       " (42.34, -71.02): [75036166.666666672, 0],\n",
       " (42.35, -71.17): [404835.14763231197, 0],\n",
       " (42.35, -71.16): [467787.77537593985, 1],\n",
       " (42.35, -71.15): [504066.72491909383, 1],\n",
       " (42.35, -71.14): [738981.07165775402, 1],\n",
       " (42.35, -71.13): [558877.31885936484, 9],\n",
       " (42.35, -71.12): [910747.26282853563, 0],\n",
       " (42.35, -71.11): [20415921.739130434, 1],\n",
       " (42.35, -71.1): [2384882.1578947366, 0],\n",
       " (42.35, -71.09): [914477.67246376816, 1],\n",
       " (42.35, -71.08): [926913.07415165484, 0],\n",
       " (42.35, -71.07): [1514857.8092439219, 11],\n",
       " (42.35, -71.06): [2071604.4294193548, 30],\n",
       " (42.35, -71.05): [2112934.1705025835, 22],\n",
       " (42.35, -71.04): [2592543.0165441176, 9],\n",
       " (42.35, -71.03): [1163976.4705882352, 1],\n",
       " (42.35, -71.01): [34246500.0, 0],\n",
       " (42.36, -71.14): [499649.75319148938, 0],\n",
       " (42.36, -71.13): [725110.77685950417, 0],\n",
       " (42.36, -71.12): [3643410.8967741937, 0],\n",
       " (42.36, -71.11): [30159816.666666668, 0],\n",
       " (42.36, -71.07): [6997687.6785714282, 3],\n",
       " (42.36, -71.06): [2116636.2159244264, 9],\n",
       " (42.36, -71.05): [956298.18261997402, 40],\n",
       " (42.36, -71.04): [1400162.8535714287, 0],\n",
       " (42.36, -71.03): [284995.99479166669, 0],\n",
       " (42.36, -71.02): [330656.0, 5],\n",
       " (42.37, -71.07): [885083.52631578944, 0],\n",
       " (42.37, -71.06): [471074.83876385621, 1],\n",
       " (42.37, -71.05): [874095.62279098108, 1],\n",
       " (42.37, -71.04): [1060875.8206896551, 0],\n",
       " (42.37, -71.03): [287548.00142348756, 4],\n",
       " (42.37, -71.02): [327207.2403100775, 4],\n",
       " (42.38, -71.08): [1300887.5, 0],\n",
       " (42.38, -71.07): [705120.28340080974, 0],\n",
       " (42.38, -71.06): [455488.75782688765, 0],\n",
       " (42.38, -71.05): [2918829.9333333331, 1],\n",
       " (42.38, -71.04): [2185918.9677419355, 0],\n",
       " (42.38, -71.03): [316111.61918604653, 0],\n",
       " (42.38, -71.02): [371069.20058139536, 1],\n",
       " (42.38, -71.01): [406913.58596973866, 0],\n",
       " (42.38, -71.0): [336854.24047306174, 1],\n",
       " (42.38, -70.99): [728333.92857142852, 0],\n",
       " (42.39, -71.07): [2022525.0, 0],\n",
       " (42.39, -71.06): [2426620.0, 0],\n",
       " (42.39, -71.01): [979920.5882352941, 0],\n",
       " (42.39, -71.0): [494209.15129151294, 0],\n",
       " (42.39, -70.99): [769736.36363636365, 0]}"
      ]
     },
     "execution_count": 26,
     "metadata": {},
     "output_type": "execute_result"
    }
   ],
   "source": [
    "featureDict"
   ]
  },
  {
   "cell_type": "markdown",
   "metadata": {},
   "source": [
    "Now we add in street light data as a final feature for modeling."
   ]
  },
  {
   "cell_type": "code",
   "execution_count": 27,
   "metadata": {
    "collapsed": false
   },
   "outputs": [],
   "source": [
    "with open('streetlight_data.csv','rU') as csvfile:\n",
    "    readerthree = csv.DictReader(csvfile)\n",
    "    for row in readerthree:\n",
    "        key = ((float(row['Lat'][:5]), float(row['Long'][:6])))\n",
    "        if key in featureDict:\n",
    "            if len(featureDict[key]) == 2:\n",
    "                featureDict[key].append(1)\n",
    "            else:\n",
    "                featureDict[key][2] += 1"
   ]
  },
  {
   "cell_type": "markdown",
   "metadata": {},
   "source": [
    "If there's no street light in a given area, record 0."
   ]
  },
  {
   "cell_type": "code",
   "execution_count": 28,
   "metadata": {
    "collapsed": false
   },
   "outputs": [],
   "source": [
    "for key in featureDict:\n",
    "    if len(featureDict[key]) ==2:\n",
    "        featureDict[key].append(0)"
   ]
  },
  {
   "cell_type": "code",
   "execution_count": 29,
   "metadata": {
    "collapsed": false
   },
   "outputs": [
    {
     "data": {
      "text/plain": [
       "{(42.23, -71.13): [405563.7603550296, 0, 141],\n",
       " (42.23, -71.12): [477299.9418604651, 0, 12],\n",
       " (42.24, -71.14): [307264.03555555554, 0, 1],\n",
       " (42.24, -71.13): [345830.53454545455, 0, 137],\n",
       " (42.24, -71.12): [279372.65255474451, 0, 184],\n",
       " (42.24, -71.11): [373794.67924528301, 0, 7],\n",
       " (42.25, -71.16): [286272.70270270272, 0, 11],\n",
       " (42.25, -71.15): [407718.27868852462, 0, 13],\n",
       " (42.25, -71.14): [390782.06804733729, 0, 223],\n",
       " (42.25, -71.13): [489025.94218415418, 0, 75],\n",
       " (42.25, -71.12): [383927.79764453962, 1, 352],\n",
       " (42.25, -71.11): [334080.7107329843, 0, 60],\n",
       " (42.25, -71.1): [247540.95454545456, 0, 8],\n",
       " (42.26, -71.17): [646297.82608695654, 0, 46],\n",
       " (42.26, -71.16): [212598.47085610201, 0, 75],\n",
       " (42.26, -71.15): [239361.60463045415, 0, 88],\n",
       " (42.26, -71.14): [337458.85416666669, 0, 67],\n",
       " (42.26, -71.13): [629250.42735042737, 0, 19],\n",
       " (42.26, -71.12): [264007.97101449274, 0, 130],\n",
       " (42.26, -71.11): [314186.5847715736, 0, 85],\n",
       " (42.26, -71.1): [245245.2150627615, 0, 121],\n",
       " (42.26, -71.09): [334294.23060344829, 1, 171],\n",
       " (42.26, -71.08): [282281.81818181818, 0, 15],\n",
       " (42.27, -71.17): [1142571.2513089005, 0, 308],\n",
       " (42.27, -71.16): [348398.82976903336, 0, 121],\n",
       " (42.27, -71.15): [525389.55419580417, 0, 73],\n",
       " (42.27, -71.14): [466909.07387862797, 0, 76],\n",
       " (42.27, -71.13): [346659.11639549438, 1, 202],\n",
       " (42.27, -71.12): [291768.63710407238, 0, 215],\n",
       " (42.27, -71.11): [248440.10767468499, 0, 232],\n",
       " (42.27, -71.1): [223763.56621004565, 0, 73],\n",
       " (42.27, -71.09): [292715.98609823908, 0, 391],\n",
       " (42.27, -71.08): [368957.23910171731, 0, 404],\n",
       " (42.27, -71.07): [314857.70627376426, 0, 254],\n",
       " (42.27, -71.06): [418623.34260429838, 2, 389],\n",
       " (42.27, -71.05): [346383.46456692915, 0, 28],\n",
       " (42.28, -71.17): [811457.66871165647, 0, 144],\n",
       " (42.28, -71.16): [369851.34853168472, 0, 81],\n",
       " (42.28, -71.15): [515769.93259557342, 2, 410],\n",
       " (42.28, -71.14): [379267.42709163349, 1, 352],\n",
       " (42.28, -71.13): [324902.68249837344, 1, 360],\n",
       " (42.28, -71.12): [331285.71409121854, 2, 327],\n",
       " (42.28, -71.11): [300954.23657024791, 0, 260],\n",
       " (42.28, -71.1): [1649434.1517857143, 0, 130],\n",
       " (42.28, -71.09): [283693.73360242182, 0, 506],\n",
       " (42.28, -71.08): [253599.38753213367, 0, 531],\n",
       " (42.28, -71.07): [296344.17297698592, 0, 525],\n",
       " (42.28, -71.06): [338389.15943962644, 0, 457],\n",
       " (42.28, -71.05): [305661.74461376772, 2, 331],\n",
       " (42.28, -71.04): [355416.25316455698, 0, 390],\n",
       " (42.28, -71.03): [484290.90909090912, 0, 10],\n",
       " (42.29, -71.17): [506951.19047619047, 0, 22],\n",
       " (42.29, -71.16): [365585.74702886248, 0, 101],\n",
       " (42.29, -71.15): [482454.55035460991, 0, 217],\n",
       " (42.29, -71.14): [426765.15657894738, 0, 109],\n",
       " (42.29, -71.13): [496603.64640198508, 0, 320],\n",
       " (42.29, -71.12): [344530.40950226242, 0, 115],\n",
       " (42.29, -71.11): [350181.90046082949, 1, 398],\n",
       " (42.29, -71.1): [7789501.8965517245, 0, 88],\n",
       " (42.29, -71.09): [442925.53521126759, 0, 331],\n",
       " (42.29, -71.08): [412670.46450809465, 1, 627],\n",
       " (42.29, -71.07): [311141.99251191289, 0, 849],\n",
       " (42.29, -71.06): [317634.85266666667, 0, 833],\n",
       " (42.29, -71.05): [289712.85933806148, 1, 425],\n",
       " (42.29, -71.04): [665448.39799331105, 0, 386],\n",
       " (42.29, -71.03): [411213.57142857142, 0, 68],\n",
       " (42.3, -71.16): [183764.609375, 0, 14],\n",
       " (42.3, -71.14): [179119.23076923078, 0, 0],\n",
       " (42.3, -71.13): [880502.75502008037, 0, 63],\n",
       " (42.3, -71.12): [1108253.5633802817, 0, 222],\n",
       " (42.3, -71.11): [475340.99486850546, 0, 668],\n",
       " (42.3, -71.1): [349560.76292682928, 0, 481],\n",
       " (42.3, -71.09): [7250818.692307692, 0, 126],\n",
       " (42.3, -71.08): [455489.00123304559, 0, 685],\n",
       " (42.3, -71.07): [309239.24437299033, 0, 761],\n",
       " (42.3, -71.06): [283590.65950226242, 0, 838],\n",
       " (42.3, -71.05): [360568.56218905473, 1, 542],\n",
       " (42.3, -71.04): [775634.93975903618, 0, 129],\n",
       " (42.31, -71.13): [734474.07894736843, 0, 2],\n",
       " (42.31, -71.12): [663219.68595041323, 0, 157],\n",
       " (42.31, -71.11): [512528.95049504953, 3, 507],\n",
       " (42.31, -71.1): [351289.27794411179, 0, 909],\n",
       " (42.31, -71.09): [406045.50470809796, 0, 903],\n",
       " (42.31, -71.08): [330025.30291109363, 0, 916],\n",
       " (42.31, -71.07): [257431.30236907731, 1, 898],\n",
       " (42.31, -71.06): [309034.39623685664, 1, 757],\n",
       " (42.31, -71.05): [310524.21342078707, 3, 596],\n",
       " (42.31, -71.04): [2089334.5705882353, 0, 548],\n",
       " (42.31, -71.03): [84501800.0, 0, 408],\n",
       " (42.32, -71.12): [463441.65243902442, 0, 44],\n",
       " (42.32, -71.11): [909482.31455399061, 1, 380],\n",
       " (42.32, -71.1): [537651.695416164, 2, 771],\n",
       " (42.32, -71.09): [313746.65997229918, 0, 1003],\n",
       " (42.32, -71.08): [358583.33213965979, 0, 1169],\n",
       " (42.32, -71.07): [268912.65149544866, 0, 862],\n",
       " (42.32, -71.06): [577237.64877300616, 2, 531],\n",
       " (42.32, -71.05): [486525.19285042334, 0, 726],\n",
       " (42.32, -71.04): [11715736.0, 0, 220],\n",
       " (42.32, -71.03): [937392.15789473685, 0, 37],\n",
       " (42.33, -71.16): [23004990.90909091, 0, 348],\n",
       " (42.33, -71.15): [426714.79237288138, 0, 322],\n",
       " (42.33, -71.14): [428906.33333333331, 1, 67],\n",
       " (42.33, -71.11): [566243.59539473685, 1, 154],\n",
       " (42.33, -71.1): [5935821.8355184747, 3, 932],\n",
       " (42.33, -71.09): [3810471.206235012, 1, 1328],\n",
       " (42.33, -71.08): [1720494.1122807018, 2, 1464],\n",
       " (42.33, -71.07): [1211383.8359173127, 2, 1501],\n",
       " (42.33, -71.06): [2634699.5662251655, 0, 589],\n",
       " (42.33, -71.05): [434305.07398212515, 1, 861],\n",
       " (42.33, -71.04): [385197.28334691661, 4, 1050],\n",
       " (42.33, -71.03): [447056.12103951583, 3, 923],\n",
       " (42.33, -71.02): [486586.95609318995, 0, 307],\n",
       " (42.34, -71.17): [363049.6612244898, 0, 23],\n",
       " (42.34, -71.16): [562851.89830508479, 0, 280],\n",
       " (42.34, -71.15): [582233.52822580643, 1, 482],\n",
       " (42.34, -71.14): [538502.23401587969, 1, 718],\n",
       " (42.34, -71.13): [436061.983663944, 2, 159],\n",
       " (42.34, -71.12): [1655500.0, 1, 9],\n",
       " (42.34, -71.1): [2613403.6286764704, 2, 604],\n",
       " (42.34, -71.09): [957405.04463913222, 11, 926],\n",
       " (42.34, -71.08): [1548565.1331460674, 26, 1463],\n",
       " (42.34, -71.07): [1394395.9089586365, 17, 1711],\n",
       " (42.34, -71.06): [955110.57884706999, 8, 1387],\n",
       " (42.34, -71.05): [1055805.5789962825, 6, 891],\n",
       " (42.34, -71.04): [4359739.205128205, 3, 830],\n",
       " (42.34, -71.03): [4750474.6753246756, 2, 529],\n",
       " (42.34, -71.02): [75036166.666666672, 0, 79],\n",
       " (42.35, -71.17): [404835.14763231197, 0, 85],\n",
       " (42.35, -71.16): [467787.77537593985, 1, 165],\n",
       " (42.35, -71.15): [504066.72491909383, 1, 209],\n",
       " (42.35, -71.14): [738981.07165775402, 1, 386],\n",
       " (42.35, -71.13): [558877.31885936484, 9, 525],\n",
       " (42.35, -71.12): [910747.26282853563, 0, 379],\n",
       " (42.35, -71.11): [20415921.739130434, 1, 300],\n",
       " (42.35, -71.1): [2384882.1578947366, 0, 174],\n",
       " (42.35, -71.09): [914477.67246376816, 1, 128],\n",
       " (42.35, -71.08): [926913.07415165484, 0, 404],\n",
       " (42.35, -71.07): [1514857.8092439219, 11, 1273],\n",
       " (42.35, -71.06): [2071604.4294193548, 30, 1811],\n",
       " (42.35, -71.05): [2112934.1705025835, 22, 1489],\n",
       " (42.35, -71.04): [2592543.0165441176, 9, 586],\n",
       " (42.35, -71.03): [1163976.4705882352, 1, 6],\n",
       " (42.35, -71.01): [34246500.0, 0, 10],\n",
       " (42.36, -71.14): [499649.75319148938, 0, 104],\n",
       " (42.36, -71.13): [725110.77685950417, 0, 275],\n",
       " (42.36, -71.12): [3643410.8967741937, 0, 578],\n",
       " (42.36, -71.11): [30159816.666666668, 0, 176],\n",
       " (42.36, -71.07): [6997687.6785714282, 3, 206],\n",
       " (42.36, -71.06): [2116636.2159244264, 9, 1498],\n",
       " (42.36, -71.05): [956298.18261997402, 40, 1952],\n",
       " (42.36, -71.04): [1400162.8535714287, 0, 456],\n",
       " (42.36, -71.03): [284995.99479166669, 0, 420],\n",
       " (42.36, -71.02): [330656.0, 5, 681],\n",
       " (42.37, -71.07): [885083.52631578944, 0, 138],\n",
       " (42.37, -71.06): [471074.83876385621, 1, 1627],\n",
       " (42.37, -71.05): [874095.62279098108, 1, 1199],\n",
       " (42.37, -71.04): [1060875.8206896551, 0, 366],\n",
       " (42.37, -71.03): [287548.00142348756, 4, 1102],\n",
       " (42.37, -71.02): [327207.2403100775, 4, 590],\n",
       " (42.38, -71.08): [1300887.5, 0, 7],\n",
       " (42.38, -71.07): [705120.28340080974, 0, 683],\n",
       " (42.38, -71.06): [455488.75782688765, 0, 415],\n",
       " (42.38, -71.05): [2918829.9333333331, 1, 109],\n",
       " (42.38, -71.04): [2185918.9677419355, 0, 46],\n",
       " (42.38, -71.03): [316111.61918604653, 0, 233],\n",
       " (42.38, -71.02): [371069.20058139536, 1, 196],\n",
       " (42.38, -71.01): [406913.58596973866, 0, 332],\n",
       " (42.38, -71.0): [336854.24047306174, 1, 257],\n",
       " (42.38, -70.99): [728333.92857142852, 0, 72],\n",
       " (42.39, -71.07): [2022525.0, 0, 17],\n",
       " (42.39, -71.06): [2426620.0, 0, 54],\n",
       " (42.39, -71.01): [979920.5882352941, 0, 85],\n",
       " (42.39, -71.0): [494209.15129151294, 0, 60],\n",
       " (42.39, -70.99): [769736.36363636365, 0, 34]}"
      ]
     },
     "execution_count": 29,
     "metadata": {},
     "output_type": "execute_result"
    }
   ],
   "source": [
    "featureDict"
   ]
  },
  {
   "cell_type": "markdown",
   "metadata": {},
   "source": [
    "As a core part of our modeling stage, we pickle the feature dictionary for use in the static model."
   ]
  },
  {
   "cell_type": "code",
   "execution_count": 30,
   "metadata": {
    "collapsed": false
   },
   "outputs": [],
   "source": [
    "featureDictPickle = open('featureDict.pkl', 'wb')\n",
    "pickle.dump(featureDict, featureDictPickle, -1)\n",
    "featureDictPickle.close()"
   ]
  },
  {
   "cell_type": "markdown",
   "metadata": {},
   "source": [
    "### Liquor Data Visualization ###"
   ]
  },
  {
   "cell_type": "markdown",
   "metadata": {},
   "source": [
    "To more easily create a heatmap to visualize liquor store location in Boston, we create a dataframe of liquor data and apply our previously defined addCoordshm function and get_page_template function used to visualize crimes in Boston."
   ]
  },
  {
   "cell_type": "code",
   "execution_count": 44,
   "metadata": {
    "collapsed": false
   },
   "outputs": [],
   "source": [
    "liquordf=pd.read_csv('liquor_data_cleaned.csv')\n",
    "bigstringl = []\n",
    "space = \"\\n\"\n",
    "for i in range(0, len(liquordf['Lat'])):\n",
    "    bigstringl.append(addCoordshm(liquordf['Lat'][i], liquordf['Lng'][i]))\n"
   ]
  },
  {
   "cell_type": "code",
   "execution_count": 45,
   "metadata": {
    "collapsed": true
   },
   "outputs": [],
   "source": [
    "bigstringinputl = space.join(bigstringl)"
   ]
  },
  {
   "cell_type": "code",
   "execution_count": 46,
   "metadata": {
    "collapsed": true
   },
   "outputs": [],
   "source": [
    "def get_page_template(x):\n",
    "    page_template_1 = \"\"\"\n",
    "    <html>\n",
    "      <head>\n",
    "        <meta charset=\"utf-8\">\n",
    "            <meta http-equiv=\"X-UA-Compatible\" content=\"IE=edge\">\n",
    "            <title></title>\n",
    "            <meta name=\"description\" content=\"\">\n",
    "            <meta name=\"viewport\" content=\"width=device-width, initial-scale=1\">\n",
    "\n",
    "            <style>\n",
    "                html, body, #map-canvas {margin: 0;padding: 0;height: 100%;}\n",
    "            </style>\n",
    "        <script src=\"https://maps.googleapis.com/maps/api/js?v=3.exp&sensor=false\"></script>\n",
    "        <script>\n",
    "          var geocoder;\n",
    "          var map;\n",
    "          function initialize() \n",
    "          {\n",
    "            geocoder = new google.maps.Geocoder();        \n",
    "            geocoder.geocode( { 'address': \"Boston\"}, function(results, status) \n",
    "            {\n",
    "              if (status == google.maps.GeocoderStatus.OK) \n",
    "              {\n",
    "                var mapOptions = {\n",
    "                  zoom: 13,\n",
    "                  center: results[0].geometry.location,\n",
    "                  mapTypeId: google.maps.MapTypeId.ROADMAP\n",
    "                }\n",
    "\n",
    "                // Let's draw the map\n",
    "                map = new google.maps.Map(document.getElementById(\"map-canvas\"), mapOptions);\n",
    "                \"\"\"\n",
    "            \n",
    "    page_template_2 = \"\"\" }\n",
    "\n",
    "              else \n",
    "              {\n",
    "                alert(\"Geocode was not successful for the following reason: \" + status);\n",
    "              }\n",
    "            });\n",
    "          }\n",
    "\n",
    "        initialize();\n",
    "        </script>\n",
    "      </head>\n",
    "    <center>\n",
    "    <H1 style=\"margin-top: 25px;\">Boston Liquor Stores</H1>\n",
    "    <body onload=\"\">\n",
    "    <div id=\"map-canvas\" style=\"width: 1200px; height: 800px;\"></div>\n",
    "    </body>\n",
    "    </center>\n",
    "    </html>\n",
    "    \"\"\"\n",
    "    return page_template_1 + x + page_template_2\n",
    "def main():\n",
    "    with open(r'C:\\Users\\Carl\\Desktop\\CS109 Final Project\\liquorviz.html', 'w') as out:\n",
    "        out.write(get_page_template(bigstringinputl))"
   ]
  },
  {
   "cell_type": "code",
   "execution_count": 47,
   "metadata": {
    "collapsed": true
   },
   "outputs": [],
   "source": [
    "main()"
   ]
  },
  {
   "cell_type": "markdown",
   "metadata": {},
   "source": [
    "Screenshot of the resulting heatmap visualization:"
   ]
  },
  {
   "cell_type": "markdown",
   "metadata": {},
   "source": [
    "<img src=\"bostonliquorheatmap.png\">"
   ]
  },
  {
   "cell_type": "markdown",
   "metadata": {},
   "source": [
    "We believed that a bar chart might make it easier to quantify the differences in number of locations for the various regions. The x-axis is not labeled due to the difficulty in distinguishing regions based solely on latitude and longitude. This is simply to illustrate the distribution."
   ]
  },
  {
   "cell_type": "code",
   "execution_count": 186,
   "metadata": {
    "collapsed": true
   },
   "outputs": [],
   "source": [
    "import pickle\n",
    "featureDict = pickle.load(open('featureDict.pkl', 'rb'))"
   ]
  },
  {
   "cell_type": "code",
   "execution_count": 187,
   "metadata": {
    "collapsed": true
   },
   "outputs": [],
   "source": [
    "liquorvals = []\n",
    "for val in featureDict.values():\n",
    "    liquorvals.append(val[1])"
   ]
  },
  {
   "cell_type": "code",
   "execution_count": 190,
   "metadata": {
    "collapsed": false
   },
   "outputs": [
    {
     "data": {
      "image/png": "[encoded data removed]",
      "text/plain": [
       "<matplotlib.figure.Figure at 0x2779f358>"
      ]
     },
     "metadata": {},
     "output_type": "display_data"
    }
   ],
   "source": [
    "plt.bar(range(len(featureDict)), liquorvals)\n",
    "plt.ylabel(\"Number of Locations\")\n",
    "plt.title(\"Liquor Store Distribution\")\n",
    "plt.show()"
   ]
  },
  {
   "cell_type": "markdown",
   "metadata": {},
   "source": [
    "### Street Light Data Visualization"
   ]
  },
  {
   "cell_type": "markdown",
   "metadata": {},
   "source": [
    "We again elected to use a barchart to depict the distribution of property values in our different regions. "
   ]
  },
  {
   "cell_type": "code",
   "execution_count": 49,
   "metadata": {
    "collapsed": false
   },
   "outputs": [],
   "source": [
    "streetlightvals = []\n",
    "for val in featureDict.values():\n",
    "    streetlightvals.append(val[2])"
   ]
  },
  {
   "cell_type": "code",
   "execution_count": 51,
   "metadata": {
    "collapsed": false
   },
   "outputs": [
    {
     "data": {
      "image/png": "[encoded data removed]",
      "text/plain": [
       "<matplotlib.figure.Figure at 0x24776dd8>"
      ]
     },
     "metadata": {},
     "output_type": "display_data"
    }
   ],
   "source": [
    "plt.bar(range(len(featureDict)), streetlightvals)\n",
    "plt.ylabel(\"Number of Street Lights\")\n",
    "plt.title(\"Street Light Distribution\")\n",
    "plt.show()"
   ]
  },
  {
   "cell_type": "markdown",
   "metadata": {},
   "source": [
    "### Property Data Visualization ###"
   ]
  },
  {
   "cell_type": "markdown",
   "metadata": {},
   "source": [
    "Similar to the above, we elected to use a barchart to depict the distribution of property values in our different regions. "
   ]
  },
  {
   "cell_type": "code",
   "execution_count": 192,
   "metadata": {
    "collapsed": true
   },
   "outputs": [],
   "source": [
    "propertyvals = []\n",
    "for val in featureDict.values():\n",
    "    propertyvals.append(val[0])"
   ]
  },
  {
   "cell_type": "code",
   "execution_count": 193,
   "metadata": {
    "collapsed": false
   },
   "outputs": [
    {
     "data": {
      "image/png": "[encoded data removed]",
      "text/plain": [
       "<matplotlib.figure.Figure at 0x20d9e710>"
      ]
     },
     "metadata": {},
     "output_type": "display_data"
    }
   ],
   "source": [
    "plt.bar(range(len(featureDict)), propertyvals)\n",
    "plt.ylabel(\"Average Value of Property\")\n",
    "plt.title(\"Average Property Value Distribution\")\n",
    "plt.show()"
   ]
  }
 ],
 "metadata": {
  "kernelspec": {
   "display_name": "Python 2",
   "language": "python",
   "name": "python2"
  },
  "language_info": {
   "codemirror_mode": {
    "name": "ipython",
    "version": 2
   },
   "file_extension": ".py",
   "mimetype": "text/x-python",
   "name": "python",
   "nbconvert_exporter": "python",
   "pygments_lexer": "ipython2",
   "version": "2.7.10"
  }
 },
 "nbformat": 4,
 "nbformat_minor": 0
}
